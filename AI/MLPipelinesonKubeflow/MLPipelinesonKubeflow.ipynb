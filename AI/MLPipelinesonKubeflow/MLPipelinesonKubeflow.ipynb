{
 "cells": [
  {
   "attachments": {},
   "cell_type": "markdown",
   "metadata": {},
   "source": [
    "Objectives <br>\n",
    "In this lab, you perform the following tasks: <br>\n",
    "Create a Kubernetes cluster and configure AI Platform pipelines <br>\n",
    "Launch pipelines dashboard <br>\n",
    "Create and run an experiment from an example end-to-end ML Pipeline <br>\n",
    "Examine and verify the output of each step <br>\n",
    "Inspect the pipeline graph, various metrics, logs, charts and parameters <br>"
   ]
  },
  {
   "attachments": {},
   "cell_type": "markdown",
   "metadata": {},
   "source": [
    " ###  Create a Kubernetes cluster and configure AI Platform pipelines\n",
    " you deploy Kubeflow Pipelines as a Kuberenetes App, which are solutions with simple click to deploy to Google Kubernetes Engine and that have the flexibility to deploy to Kubernetes clusters on-premises or in third-party clouds <br>\n",
    "\n",
    " Navigation menu >> AI Platform >> pipelines >> create new Instance >> configure >> create new cluster <br>\n",
    "\n",
    "![deployKubeflowPipeline](deployKubeflowPipeline.png)"
   ]
  },
  {
   "cell_type": "markdown",
   "metadata": {},
   "source": [
    "### Task 2. Run an example pipeline\n",
    "![pipelinedashboard](pipelinedashboard.png)\n",
    "\n",
    "![pipelines](pipelines.png)\n",
    "\n",
    "Click on the [Demo] XGBoost - Iterative model training pipeline.\n",
    "\n",
    "![xgboost](xgboost.png)\n",
    "\n",
    "Create experiment \n",
    "![runxgboost](runxgboost.png)"
   ]
  }
 ],
 "metadata": {
  "language_info": {
   "name": "python"
  },
  "orig_nbformat": 4
 },
 "nbformat": 4,
 "nbformat_minor": 2
}
