{
 "cells": [
  {
   "attachments": {},
   "cell_type": "markdown",
   "metadata": {},
   "source": [
    "## Vertex_AI_Predicting_Loan_Risk_with_AutoML\n"
   ]
  },
  {
   "attachments": {},
   "cell_type": "markdown",
   "metadata": {},
   "source": [
    "### objectives\n",
    "You learn how to: <br>\n",
    "•Upload a dataset to Vertex AI. <br>\n",
    "•Train a machine learning model with AutoML. <br>\n",
    "•Evaluate the model performance. <br>\n",
    "•Deploy the model to an endpoint. <br>\n",
    "•Get predictions. <br>"
   ]
  },
  {
   "attachments": {},
   "cell_type": "markdown",
   "metadata": {},
   "source": [
    "### prepare data\n",
    "1.In the Google Cloud Console, on the Navigation menu, \n",
    "click Vertex AI. <br>\n",
    "2.Click Create dataset.<br>\n",
    "3.On the Datasets page, give the dataset a name.<br>\n",
    "4.For the data type and objective, click Tabular, and then\n",
    "select Regression/classification.<br>\n",
    "5.Click Create.<br>\n",
    "Upload data<br>\n",
    "Three options to import data in Vertex AI:<br>\n",
    "* Upload a local file from your computer.\n",
    "* Select files from Cloud Storage.\n",
    "* Select data from BigQuery.\n",
    "For convenience, the dataset is already uploaded to Cloud Storage. <br>\n",
    "1- For the data source, select Select CSV files from Cloud Storage. <br>\n",
    "2- For Import file path, enter spls/cbl455/loan_risk.csv <br>\n"
   ]
  },
  {
   "attachments": {},
   "cell_type": "markdown",
   "metadata": {},
   "source": [
    "### Train your model\n",
    "\n",
    "•Click Train new model. <br>\n",
    "1.For Objective, select Classification. Select classification instead of regression because \n",
    "you are predicting a distinct number (whether a customer will repay a loan: 0 for repay, 1 \n",
    "for default/not repay) instead of a continuous number.<br>\n",
    "2.Click Continue <br>\n",
    "Model details <br>\n",
    "Specify the name of the model and the target column. <br>\n",
    "1.Give the model a name, such as LoanRisk. <br>\n",
    "2.For Target column, select Default . <br>\n",
    "3.(Optional) Explore Advanced options to determine how to assign the training vs. \n",
    "testing data and specify the encryption. <br>\n",
    "4.Click Continue <br>\n",
    "\n",
    "**Training options** <br>\n",
    "Specify which columns you want to include in the training model. For example, ClientID might be irrelevant to predict \n",
    "loan risk.<br>\n",
    "1.Click the minus sign on the ClientID row to exclude it from the training model.<br>\n",
    "2.(Optional) Explore Advanced options to select different optimization objectives. For more information about \n",
    "optimization objectives for tabular AutoML models <br>\n",
    "3.Click Continue.<br>\n",
    "**Compute and pricing** <br>\n",
    "1.For Budget, which represents the number of node hours for training, enter 1. Training your AutoML model for 1 \n",
    "compute hour is typically a good start for understanding whether there is a relationship between the features and label \n",
    "you've selected. From there, you can modify your features and train for more time to improve model performance. <br>\n",
    "2.Leave early stopping enabled. <br>\n",
    "3.Click Start training.<br>\n",
    "Depending on the data size and the training method, the training can take from a few minutes to a couple of hours. \n",
    "Normally you would receive an email from Google Cloud when the training job is complete. However, in the Qwiklabs\n",
    "environment, you will not receive an email.\n",
    "To save the waiting for the model training, you download a pre-trained model in task 5 to get predictions in task 6. This \n",
    "pre-trained model is the training result following the same steps from task 1 to task 2."
   ]
  },
  {
   "attachments": {},
   "cell_type": "markdown",
   "metadata": {},
   "source": [
    "### Evaluate the model performance\n",
    "\n",
    "Veretex AI provides many metrics to evaluate the model \n",
    "performance. You focus on three: <br>\n",
    "* Precision/Recall curve <br>\n",
    "* Confusion Matrix <br>\n",
    "* Feature Importance <br>\n",
    "\n",
    "![evalution](evalution_1.png)"
   ]
  },
  {
   "attachments": {},
   "cell_type": "markdown",
   "metadata": {},
   "source": [
    "![confusion_matrix](confusion_matrix.png)\n",
    "![featureImportance](featureImportance.png)"
   ]
  },
  {
   "attachments": {},
   "cell_type": "markdown",
   "metadata": {},
   "source": [
    "### Deploy the model\n",
    "\n",
    "Create and define an endpoint <br>\n",
    "On your model page, on the Deploy and test tab, click Deploy to endpoint.   <br>\n",
    "For Endpoint name, enter a name for your endpoint, such as LoanRisk. <br>\n",
    "Click Continue. <br>\n",
    "Model settings and monitoring <br>\n",
    "Leave the traffic splitting settings as-is. <br>\n",
    "As the machine type for your model deployment, under Machine type, select n1-standard-8, 8 vCPUs, 30 GiB memory. <br>\n",
    "Leave the remaining settings as-is. <br>\n",
    "Click Deploy. <br>\n",
    "\n",
    "**SML Bearer Token**  <br>\n",
    "Retrieve your Bearer Token <br>\n",
    "To allow the pipeline to authenticate, and be authorized to call the endpoint to get the predictions, you will need to provide your Bearer Token. <br>\n",
    "Follow the instructions below to get your token. If you have issues getting the Bearer Token, this can be due to cookies in the incognito window. If this is happening to you, try this step in a non-incognito window. <br>\n",
    "Log in to https://gsp-auth-kjyo252taq-uc.a.run.app/ <br>\n",
    "When logging in, use your student email address and password. <br>\n",
    "Click the Copy button. This will copy a very long token to your clipboard. <br>\n",
    "\n",
    "![SML_Bearer_Token](SML_Bearer_Token.png)\n"
   ]
  },
  {
   "attachments": {},
   "cell_type": "markdown",
   "metadata": {},
   "source": [
    "### Get predictions\n",
    "use the **Shared Machine Learning (SML) service** to work with an existing trained model\n",
    "| ENVIRONMENT VARIABLE | VALUE                                   |\n",
    "| -------------------- | --------------------------------------- |\n",
    "| AUTH_TOKEN           | Use the value from the previous section |\n",
    "| ENDPOINT             |  https://sml-api-vertex-kjyo252taq-uc.a.run.app/vertex/predict/tabular_classification                                       |\n",
    "|INPUT_DATA_FILE|INPUT-JSON|\n",
    "\n",
    "To use the trained model, you will need to create some environment variables.\n",
    "Open a Cloud Shell window. <br>\n",
    "Replace INSERT_SML_BEARER_TOKEN with the bearer token value from the previous section:\n",
    "AUTH_TOKEN=\"INSERT_SML_BEARER_TOKEN„ <br>\n",
    "3.Download the lab assets:\n",
    "gsutil cp gs://spls/cbl455/cbl455.tar.gz .\n",
    "4. Extract the lab assets:\n",
    "tar -xvf cbl455.tar.gz\n",
    "5.Create an ENDPOINT environment variable:\n",
    "ENDPOINT=https://sml-api-vertex-kjyo252taq-uc.a.run.app/vertex/predict/tabular_classification\n",
    "Create a INPUT_DATA_FILE environment variable:\n",
    "INPUT_DATA_FILE=\"INPUT-JSON„\n",
    "The file INPUT-JSON is composed of the follwing values:\n",
    "\n",
    "| age   | ClientID | income   | loan    |\n",
    "| ----- | -------- | -------- | ------- |\n",
    "| 40.77 | 997      | 44964.01 | 3944.22 |\n",
    "|       |          |          |         |\n",
    "\n",
    "\n",
    "Test the SML Service by passing the parameters specified in the environment variables:\n",
    "Perform a request to the SML service:\n",
    "./smlproxy tabular \\\n",
    "  -a $AUTH_TOKEN \\\n",
    "  -e $ENDPOINT \\\n",
    "  -d $INPUT_DATA_FILE\n",
    "This query should result in a response similar to this:\n",
    "SML Tabular HTTP Response:\n",
    "2022/01/10 15:04:45 {\"model_class\":\"0\",\"model_score\":0.9999981}\n",
    "\n"
   ]
  },
  {
   "attachments": {},
   "cell_type": "markdown",
   "metadata": {},
   "source": [
    "Test the SML Service by passing the parameters specified in the environment variables:\n",
    "Edit the file INPUT-JSON and replace the original values.\n",
    "Perform a request to the SML service:\n",
    "./smlproxy tabular \\\n",
    "  -a $AUTH_TOKEN \\\n",
    "  -e $ENDPOINT \\\n",
    "  -d $INPUT_DATA_FILE\n",
    "In this case, assuming that the person's income is 50,000, age 30, and loan 20,000, the model predicts that this person will repay the loan\n",
    "SML Tabular HTTP Response:\n",
    "2022/01/10 15:04:45 {\"model_class\":\"0\",\"model_score\":0.9999981}\n",
    "\n",
    "\n",
    "![prediction](prediction.png)"
   ]
  },
  {
   "cell_type": "markdown",
   "metadata": {},
   "source": []
  }
 ],
 "metadata": {
  "language_info": {
   "name": "python"
  },
  "orig_nbformat": 4
 },
 "nbformat": 4,
 "nbformat_minor": 2
}
