{
 "cells": [
  {
   "attachments": {},
   "cell_type": "markdown",
   "metadata": {},
   "source": [
    "## loading data\n",
    "### loading data from csv file to BigQuery\n",
    "- Create the Dataset ID to nyctaxi. Leave the other fields at their default values. <br>\n",
    "Setting(create dataset,upload data from csv file) <br>\n",
    "you will load a local CSV into a BigQuery table. <br>\n",
    "1.Download a subset of the NYC taxi 2018 trips data <br>\n",
    "locally onto your computer from here :<br>\n",
    "2.In the BigQuery Console, Select the nyctaxi dataset then \n",
    "click Create Table<br>\n",
    "Specify the below table options:<br>\n",
    "Source:<br>\n",
    "•Create table from: Upload<br>\n",
    "•Choose File: select the file you downloaded locally earlier<br>\n",
    "•File format: CSV <br>\n",
    "Destination: <br>\n",
    "•Table name: 2018trips Leave all other setting at default. <br>\n",
    "Schema: <br>\n",
    "•Check Auto Detect (tip: Not seeing the checkbox? Ensure  \n",
    "the file format is CSV and not Avro) <br>\n",
    "Advanced Options <br>\n",
    "•Leave at default values <br>\n",
    "Click Create Table. <br>\n",
    "3.You should now see \n",
    "the 2018trips table below the \n",
    "nyctaxi dataset. <br>\n",
    "Select the 2018trips table and \n",
    "view details: <br>\n",
    "4.Select Preview and confirm all \n",
    "columns have been loaded \n",
    "(sampled below): <br>\n",
    "You have successfully loaded in a  \n",
    "CSV file into a new BigQuery table <br>"
   ]
  },
  {
   "attachments": {},
   "cell_type": "markdown",
   "metadata": {},
   "source": [
    "### upload from Google Cloud Storage\n",
    "Now, lets try load another subset of the same 2018 trip data that is available on Cloud Storage. \n",
    "And this time, let's use the CLI tool to do it.\n",
    "1.In your Cloud Shell, run the following command : <br>\n",
    "```shell\n",
    "bq load \\\n",
    "--source_format=CSV \\\n",
    "--autodetect \\\n",
    "--noreplace \\\n",
    "nyctaxi.2018trips \\\n",
    "gs://cloud-training/OCBL013/nyc_tlc_yellow_trips_2018_subset_2.csv\n",
    "```"
   ]
  },
  {
   "attachments": {},
   "cell_type": "markdown",
   "metadata": {},
   "source": [
    "### Creating table using DDL"
   ]
  },
  {
   "cell_type": "code",
   "execution_count": null,
   "metadata": {
    "vscode": {
     "languageId": "sql"
    }
   },
   "outputs": [],
   "source": [
    "#standardSQL\n",
    "CREATE TABLE\n",
    "nyctaxi.january_trips AS\n",
    "SELECT\n",
    "*\n",
    "FROM\n",
    "nyctaxi.2018trips\n",
    "WHERE\n",
    "EXTRACT(Month\n",
    "FROM\n",
    "pickup_datetime)=1"
   ]
  },
  {
   "cell_type": "markdown",
   "metadata": {},
   "source": []
  }
 ],
 "metadata": {
  "language_info": {
   "name": "python"
  },
  "orig_nbformat": 4
 },
 "nbformat": 4,
 "nbformat_minor": 2
}
