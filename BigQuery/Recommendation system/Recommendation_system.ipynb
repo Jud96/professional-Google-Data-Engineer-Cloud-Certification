{
 "cells": [
  {
   "attachments": {},
   "cell_type": "markdown",
   "metadata": {},
   "source": [
    "####  Recommendation system in bigquery ML \n",
    "\n",
    "Task 1: Get MovieLens data <br>\n",
    "In this task you will use the command line to create a BigQuery dataset to store the MovieLens data. The MovieLens\n",
    "data will then be loaded from a Cloud Storage bucket into the dataset.\n",
    "Start the Cloud Shell Editor  <br>\n",
    "To create a BigQuery dataset and load the MovieLens data the Cloud Shell is used. <br>\n",
    "1.In the GCP Console, click Activate Cloud Shell <br> \n",
    "2.If prompted, click Continue. <br>\n",
    "Create and Load BigQuery Dataset <br>\n",
    "1.Run the following command to create a BigQuery dataset named movies:\n",
    "```shell\n",
    "bq --location=EU mk --dataset movies\n",
    "```\n",
    "2.Run the following commands separately in the Cloud Shell:\n",
    "```shell\n",
    "bq load --source_format=CSV \\\n",
    "--location=EU \\\n",
    "--autodetect movies.movielens_ratings \\\n",
    "gs://dataeng-movielens/ratings.csv\n",
    "bq load --source_format=CSV \\\n",
    "--location=EU \\\n",
    "--autodetect movies.movielens_movies_raw \\\n",
    "gs://dataeng-movielens/movies.csv\n",
    "```\n"
   ]
  },
  {
   "cell_type": "code",
   "execution_count": null,
   "metadata": {
    "vscode": {
     "languageId": "sql"
    }
   },
   "outputs": [],
   "source": [
    "SELECT\n",
    "COUNT(DISTINCT userId) numUsers,\n",
    "COUNT(DISTINCT movieId) numMovies,\n",
    "COUNT(*) totalRatings\n",
    "FROM\n",
    "movies.movielens_ratings"
   ]
  },
  {
   "cell_type": "code",
   "execution_count": null,
   "metadata": {
    "vscode": {
     "languageId": "sql"
    }
   },
   "outputs": [],
   "source": [
    "SELECT\n",
    "*   -- movieid , title, genres\n",
    "FROM\n",
    "movies.movielens_movies_raw\n",
    "WHERE\n",
    "movieId < 5"
   ]
  },
  {
   "cell_type": "code",
   "execution_count": null,
   "metadata": {
    "vscode": {
     "languageId": "sql"
    }
   },
   "outputs": [],
   "source": [
    "-- You can see that the genres column is a formatted string. Parse the genres into an array and rewrite the results \n",
    "-- into a table named movielens_movies.\n",
    "CREATE OR REPLACE TABLE\n",
    "movies.movielens_movies AS\n",
    "SELECT\n",
    "* REPLACE(SPLIT(genres, \"|\") AS genres)\n",
    "FROM\n",
    "movies.movielens_movies_raw\n"
   ]
  },
  {
   "attachments": {},
   "cell_type": "markdown",
   "metadata": {},
   "source": [
    "Matrix factorization is a collaborative filtering technique that relies on two vectors called the user factors and the item \n",
    "factors. The user factors is a low-dimensional representation of a user_id and the item factors similarly represents \n",
    "an item_id. <br>\n",
    "To perform a matrix factorization of our data, you use the typical BigQuery ML syntax except that \n",
    "the model_type is matrix_factorization and you have to identify which columns play what roles in the collaborative filtering \n",
    "setup. <br>\n"
   ]
  },
  {
   "cell_type": "code",
   "execution_count": null,
   "metadata": {
    "vscode": {
     "languageId": "sql"
    }
   },
   "outputs": [],
   "source": [
    "-- NOTE: The query below is for reference only. Please DO NOT EXECUTE this query in your project\n",
    "CREATE OR REPLACE MODEL movies.movie_recommender\n",
    "OPTIONS (model_type='matrix_factorization', user_col='userId', \n",
    "item_col='movieId', rating_col='rating', l2_reg=0.2, num_factors=16) AS\n",
    "SELECT userId, movieId, rating\n",
    "FROM movies.movielens_ratings"
   ]
  },
  {
   "cell_type": "code",
   "execution_count": null,
   "metadata": {
    "vscode": {
     "languageId": "sql"
    }
   },
   "outputs": [],
   "source": [
    "SELECT * FROM ML.EVALUATE(MODEL `cloud-training-prod-bucket.movies.movie_recommender`)"
   ]
  },
  {
   "cell_type": "code",
   "execution_count": null,
   "metadata": {
    "vscode": {
     "languageId": "sql"
    }
   },
   "outputs": [],
   "source": [
    "-- predict \n",
    "SELECT\n",
    "*\n",
    "FROM\n",
    "ML.PREDICT(MODEL `cloud-training-prod-bucket.movies.movie_recommender`,\n",
    "(\n",
    "SELECT\n",
    "movieId,\n",
    "title,\n",
    "903 AS userId\n",
    "FROM\n",
    "`movies.movielens_movies`,\n",
    "UNNEST(genres) g\n",
    "WHERE\n",
    "g = 'Comedy' ))\n",
    "ORDER BY\n",
    "predicted_rating DESC\n",
    "LIMIT\n",
    "5 "
   ]
  },
  {
   "attachments": {},
   "cell_type": "markdown",
   "metadata": {},
   "source": [
    "![prediction](prediction.png)\n"
   ]
  },
  {
   "cell_type": "code",
   "execution_count": null,
   "metadata": {
    "vscode": {
     "languageId": "sql"
    }
   },
   "outputs": [],
   "source": [
    "-- 2.This result includes movies the user has already seen and rated in the past. Let’s remove them:\n",
    "SELECT\n",
    "  *\n",
    "FROM\n",
    "  ML.PREDICT(MODEL `cloud-training-prod-bucket.movies.movie_recommender`,\n",
    "    (\n",
    "    WITH\n",
    "      seen AS (\n",
    "      SELECT\n",
    "        ARRAY_AGG(movieId) AS movies\n",
    "      FROM\n",
    "        movies.movielens_ratings\n",
    "      WHERE\n",
    "        userId = 903 )\n",
    "    SELECT\n",
    "      movieId,\n",
    "      title,\n",
    "      903 AS userId\n",
    "    FROM\n",
    "      movies.movielens_movies,\n",
    "      UNNEST(genres) g,\n",
    "      seen\n",
    "    WHERE\n",
    "      g = 'Comedy'\n",
    "      AND movieId NOT IN UNNEST(seen.movies) ))\n",
    "ORDER BY\n",
    "  predicted_rating DESC\n",
    "LIMIT\n",
    "  5\n",
    "\n"
   ]
  },
  {
   "attachments": {},
   "cell_type": "markdown",
   "metadata": {},
   "source": [
    "###  Task 5:Apply customer targeting\n",
    "In this task you will look at how to identify the top-rated movies for a specific user. Sometimes, you have a product and \n",
    "have to find the customers who are likely to appreciate it.\n",
    "1.You wish to get more reviews for movieId=96481 which has only one rating and you wish to send coupons to the 100 \n",
    "users who are likely to rate it the highest. Identify those users using:\n"
   ]
  },
  {
   "cell_type": "code",
   "execution_count": null,
   "metadata": {
    "vscode": {
     "languageId": "sql"
    }
   },
   "outputs": [],
   "source": [
    "SELECT\n",
    "  *\n",
    "FROM\n",
    "  ML.PREDICT(MODEL `cloud-training-prod-bucket.movies.movie_recommender`,\n",
    "    (\n",
    "    WITH\n",
    "      allUsers AS (\n",
    "      SELECT\n",
    "        DISTINCT userId\n",
    "      FROM\n",
    "        movies.movielens_ratings )\n",
    "    SELECT\n",
    "      96481 AS movieId,\n",
    "      (\n",
    "      SELECT\n",
    "        title\n",
    "      FROM\n",
    "        movies.movielens_movies\n",
    "      WHERE\n",
    "        movieId=96481) title,\n",
    "      userId\n",
    "    FROM\n",
    "      allUsers ))\n",
    "ORDER BY\n",
    "  predicted_rating DESC\n",
    "LIMIT\n",
    "  100\n"
   ]
  },
  {
   "attachments": {},
   "cell_type": "markdown",
   "metadata": {},
   "source": [
    "### Task 6: Perform Batch predictions for all users and movies"
   ]
  },
  {
   "cell_type": "code",
   "execution_count": null,
   "metadata": {
    "vscode": {
     "languageId": "sql"
    }
   },
   "outputs": [],
   "source": [
    "SELECT\n",
    "  *\n",
    "FROM\n",
    "  ML.RECOMMEND(MODEL `cloud-training-prod-bucket.movies.movie_recommender`)\n",
    "LIMIT \n",
    "  100000\n"
   ]
  }
 ],
 "metadata": {
  "language_info": {
   "name": "python"
  },
  "orig_nbformat": 4
 },
 "nbformat": 4,
 "nbformat_minor": 2
}
