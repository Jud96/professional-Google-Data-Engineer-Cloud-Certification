{
 "cells": [
  {
   "attachments": {},
   "cell_type": "markdown",
   "metadata": {},
   "source": [
    "data lake brings together data from across the enterprise into single location\n",
    "data lake : a scalable and secure data platform that allows enterprises to ingest,store,process and analyse any type or volume of information \n",
    "\n",
    "Key consideration s when building data lake \n",
    "1- can your data lake handle all the types of data you have ?\n",
    "2- can it scale to meet the demand?\n",
    "3-does it support high throughput ingestion?\n",
    "4- is there fine-grained access control to objects ?\n",
    "5- can other tools connect easily  \n",
    "\n",
    "\n",
    "Key consideration s when choosing dwh  \n",
    "1- can it serve as sink for both batch and streaming data pipelines ?\n",
    "2- can dwh scale to meet my needs ?\n",
    "3- how is the data organized, cataloged, and access controlled ?\n",
    "4- is the warehouse designed for performance?\n",
    "5- what level of maintenance is required by our engineering team ?\n",
    "\n",
    "\n",
    "\n",
    "\n",
    "\n",
    "data catelog gcp is a fully managed and scalable metadata management service that empowers organizations to quickly discover, manage, and understand all their data in google cloud\n",
    "\n",
    "fully managed : no setup , automated backups,update etc replicated highly available\n",
    "serveless : no server management , fully managed security , pay only for usage\n",
    "\n",
    "A modern dwh \n",
    "Gigabytes or perabytes\n",
    "serveless adn no-ops,including ad hoc queries\n",
    "ecosystem of visualizatio and reporting tools \n",
    "ecosystem of etl and data processing tools\n",
    "up-to -the-minute data\n",
    "ml\n",
    "security and collaboration \n",
    "\n",
    "why bigquery is fast\n",
    "1- columnar storage\n",
    "2- data compression\n",
    "3- data caching\n",
    "4- columnar data processing engine\n",
    "5- parallel processing\n",
    "6- automatic query optimization\n",
    "7- automatic data partitioning\n",
    "8- automatic data sharding\n",
    "BigQuery slot is a combination of CPU,memory,and networking resources that process queries\n",
    "The actual number of slots allotted to a query depends on query complexity and project quota"
   ]
  },
  {
   "attachments": {},
   "cell_type": "markdown",
   "metadata": {},
   "source": [
    "Reporting approach : should we normalize or denormalize the data ?\n",
    "Nested and repeated fields allow you to have mulltiple levels of data granularity in a single table\n",
    "Reduce cost and amount ofdata read by partitioning your table \n"
   ]
  },
  {
   "attachments": {},
   "cell_type": "markdown",
   "metadata": {},
   "source": [
    "Bigquery supports three ways to partition a table\n",
    "1- ingestion time partitioning\n",
    "```shell\n",
    "bq query --destination_table=dataset.mytable --time_partitioning_type=DAY\n",
    "```\n",
    "2- date partitioning\n",
    "```shell\n",
    "bq mk --table  --schema a:string,tm:timestamp\n",
    "--time_partitioning_field tm\n",
    "```\n",
    "3- integer range partitioning\n",
    "```shell\n",
    "bq mk --table  --schema \"customer_id:integer,value:integer\"\n",
    "--range_partitioning_field=customer_id,0,100,10 mydataset.mytable\n",
    "```shell"
   ]
  }
 ],
 "metadata": {
  "language_info": {
   "name": "python"
  },
  "orig_nbformat": 4
 },
 "nbformat": 4,
 "nbformat_minor": 2
}
