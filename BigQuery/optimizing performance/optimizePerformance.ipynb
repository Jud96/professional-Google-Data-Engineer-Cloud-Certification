{
 "cells": [
  {
   "attachments": {},
   "cell_type": "markdown",
   "metadata": {},
   "source": [
    "###  objectives\n",
    "\n",
    "In this lab, you learn about the following techniques for reducing \n",
    "BigQuery execution times and costs:\n",
    "•Minimizing I/O\n",
    "•Caching results of previous queries\n",
    "•Performing efficient joins\n",
    "•Avoid over-whelming single workers\n",
    "•Using approximate aggregation functions"
   ]
  },
  {
   "attachments": {},
   "cell_type": "markdown",
   "metadata": {},
   "source": [
    "### Minimize I/O\n",
    "A query that computes the sum of three columns will be slower than a query that computes the sum of two \n",
    "columns, but most of the performance difference will be due to reading more data, not the extra addition. Therefore, \n",
    "a query that computes the mean of a column will be nearly as fast as a query whose aggregation method is to \n",
    "compute the variance of the data (even though computing variance requires BigQuery to keep track of both the sum \n",
    "and the sum of the squares) because most of the overhead of simple queries is caused by I/O, not by computation.\n",
    "Be purposeful in SELECT\n",
    "Because BigQuery uses columnar file formats, the fewer the columns that are read in a SELECT, the less the amount \n",
    "of data that needs to be read. In particular, doing a SELECT * reads every column of every row in the table, making it \n",
    "quite slow and expensive. The exception is when you use a SELECT * in a subquery, then only reference a few fields \n",
    "in an outer query; the BigQuery optimizer will be smart enough to only read the columns that are absolutely required.\n"
   ]
  },
  {
   "cell_type": "code",
   "execution_count": null,
   "metadata": {
    "vscode": {
     "languageId": "sql"
    }
   },
   "outputs": [],
   "source": [
    "SELECT\n",
    "bike_id,\n",
    "duration\n",
    "FROM\n",
    "`bigquery-public-data`.london_bicycles.cycle_hire\n",
    "ORDER BY\n",
    "duration DESC\n",
    "LIMIT 1\n",
    "-- In the Query results window notice that the \n",
    "-- query completed in ~1.2s and processed \n",
    "-- ~372MB of data."
   ]
  },
  {
   "cell_type": "code",
   "execution_count": null,
   "metadata": {
    "vscode": {
     "languageId": "sql"
    }
   },
   "outputs": [],
   "source": [
    "SELECT * FROM `bigquery-public-data`.london_bicycles.cycle_hire\n",
    "ORDER BY duration DESC LIMIT 1\n",
    "\n",
    "-- In the Query results window notice that this \n",
    "-- query completed in ~4.5s and consumed \n",
    "-- ~2.6GB of data. Much longer!\n"
   ]
  },
  {
   "attachments": {},
   "cell_type": "markdown",
   "metadata": {},
   "source": [
    "### Reduce data being read\n",
    "When tuning a query, it is important to start with the data that is being read and consider whether it is possible to \n",
    "reduce this. Suppose we wish to find the typical duration of the most common one-way rentals.\n",
    "1.Execute the following query into the BigQuery editor window:\n",
    "2.Click on the Execution details tab of the Query results window"
   ]
  },
  {
   "cell_type": "code",
   "execution_count": null,
   "metadata": {
    "vscode": {
     "languageId": "sql"
    }
   },
   "outputs": [],
   "source": [
    "SELECT\n",
    "MIN(start_station_name) AS start_station_name,\n",
    "MIN(end_station_name) AS end_station_name,\n",
    "APPROX_QUANTILES(duration, 10)[OFFSET (5)] AS \n",
    "typical_duration,\n",
    "COUNT(duration) AS num_trips\n",
    "FROM\n",
    "`bigquery-public-data`.london_bicycles.cycle_hire\n",
    "WHERE\n",
    "start_station_id != end_station_id\n",
    "GROUP BY\n",
    "start_station_id,\n",
    "end_station_id\n",
    "ORDER BY\n",
    "num_trips DESC\n",
    "LIMIT\n",
    "10"
   ]
  },
  {
   "attachments": {},
   "cell_type": "markdown",
   "metadata": {},
   "source": [
    "We can reduce the I/O overhead of the query if we do the filtering and grouping using the \n",
    "station name rather than the station id since we will need to read fewer columns."
   ]
  },
  {
   "cell_type": "code",
   "execution_count": null,
   "metadata": {
    "vscode": {
     "languageId": "sql"
    }
   },
   "outputs": [],
   "source": [
    "SELECT\n",
    "start_station_name,\n",
    "end_station_name,\n",
    "APPROX_QUANTILES(duration, 10)[OFFSET(5)] AS \n",
    "typical_duration,\n",
    "COUNT(duration) AS num_trips\n",
    "FROM\n",
    "`bigquery-public-data`.london_bicycles.cycle_hire\n",
    "WHERE\n",
    "start_station_name != end_station_name\n",
    "GROUP BY\n",
    "start_station_name,\n",
    "end_station_name\n",
    "ORDER BY\n",
    "num_trips DESC\n",
    "LIMIT\n",
    "10\n"
   ]
  },
  {
   "attachments": {},
   "cell_type": "markdown",
   "metadata": {},
   "source": [
    "The above query avoids the need to read the two id \n",
    "columns and finishes in 10.8 seconds. This speedup is \n",
    "caused by the downstream effects of reading less data"
   ]
  },
  {
   "attachments": {},
   "cell_type": "markdown",
   "metadata": {},
   "source": [
    "### Reduce number of expensive computations\n",
    "Suppose we wish to find the total distance traveled by each bicycle in our dataset.\n",
    "1.A naive way to do this would be to find the distance traveled in each trip undertaken by each \n",
    "bicycle and sum them up:"
   ]
  },
  {
   "cell_type": "code",
   "execution_count": null,
   "metadata": {
    "vscode": {
     "languageId": "sql"
    }
   },
   "outputs": [],
   "source": [
    "WITH\n",
    "trip_distance AS (\n",
    "SELECT\n",
    "bike_id,\n",
    "ST_Distance(ST_GeogPoint(s.longitude,\n",
    "s.latitude),\n",
    "ST_GeogPoint(e.longitude,\n",
    "e.latitude)) AS distance\n",
    "FROM\n",
    "`bigquery-public-data`.london_bicycles.cycle_hire,\n",
    "`bigquery-public-data`.london_bicycles.cycle_stations s,\n",
    "`bigquery-public-data`.london_bicycles.cycle_stations e\n",
    "WHERE\n",
    "start_station_id = s.id\n",
    "AND end_station_id = e.id )\n",
    "SELECT\n",
    "bike_id,\n",
    "SUM(distance)/1000 AS total_distance\n",
    "FROM\n",
    "trip_distance\n",
    "GROUP BY\n",
    "bike_id\n",
    "ORDER BY\n",
    "total_distance DESC\n",
    "LIMIT 5"
   ]
  },
  {
   "attachments": {},
   "cell_type": "markdown",
   "metadata": {},
   "source": [
    "This query takes 9.8 seconds (55 seconds \n",
    "of slot time) and shuffles 1.22 MB. The \n",
    "result is that some bicycles have been \n",
    "ridden nearly 6000 kilometers"
   ]
  },
  {
   "attachments": {},
   "cell_type": "markdown",
   "metadata": {},
   "source": [
    "Computing the distance is a pretty expensive \n",
    "operation and we can avoid joining \n",
    "the cycle_stations table against the cycle_hire\n",
    "table if we precompute the distances between \n",
    "all pairs of stations:\n"
   ]
  },
  {
   "cell_type": "code",
   "execution_count": null,
   "metadata": {
    "vscode": {
     "languageId": "sql"
    }
   },
   "outputs": [],
   "source": [
    "WITH\n",
    "stations AS (\n",
    "SELECT\n",
    "s.id AS start_id,\n",
    "e.id AS end_id,\n",
    "ST_Distance(ST_GeogPoint(s.longitude,\n",
    "s.latitude),\n",
    "ST_GeogPoint(e.longitude,\n",
    "e.latitude)) AS distance\n",
    "FROM\n",
    "`bigquery-public-data`.london_bicycles.cycle_stations s,\n",
    "`bigquery-public-data`.london_bicycles.cycle_stations e ),\n",
    "trip_distance AS (\n",
    "SELECT\n",
    "bike_id,\n",
    "distance\n",
    "FROM\n",
    "`bigquery-public-data`.london_bicycles.cycle_hire,\n",
    "stations\n",
    "WHERE\n",
    "start_station_id = start_id\n",
    "AND end_station_id = end_id )\n",
    "SELECT\n",
    "bike_id,\n",
    "SUM(distance)/1000 AS total_distance\n",
    "FROM\n",
    "trip_distance\n",
    "GROUP BY\n",
    "bike_id\n",
    "ORDER BY\n",
    "total_distance DESC\n",
    "LIMIT 5"
   ]
  },
  {
   "attachments": {},
   "cell_type": "markdown",
   "metadata": {},
   "source": [
    "This query only makes 600k geo-distance \n",
    "calculations vs. 24M previously. Now it takes \n",
    "31.5 seconds of slot time (a 30% speedup), \n",
    "despite shuffling 33.05MB of data\n"
   ]
  },
  {
   "attachments": {},
   "cell_type": "markdown",
   "metadata": {},
   "source": [
    "### Cache results of previous queries\n",
    "The BigQuery service automatically caches query results in a temporary table. If the identical query is \n",
    "submitted within approximately 24 hours, the results are served from this temporary table without any \n",
    "recomputation. Cached results are extremely fast and do not incur charges.\n",
    "There are, however, a few caveats to be aware of. Query caching is based on exact string comparison. So \n",
    "even whitespaces can cause a cache miss. Queries are never cached if they exhibit non-deterministic \n",
    "behavior (for example, they use CURRENT_TIMESTAMP or RAND), if the table or view being queried has \n",
    "changed (even if the columns/rows of interest to the query are unchanged), if the table is associated with a \n",
    "streaming buffer (even if there are no new rows), if the query uses DML statements, or queries external data \n",
    "sources.\n",
    "### Cache intermediate results\n",
    "It is possible to improve overall performance at the expense of increased I/O by taking advantage of \n",
    "temporary tables and materialized views.\n",
    "1.For example, suppose you have a number of queries that start out by finding the typical duration of trips \n",
    "between a pair of stations. The WITH clause (also called a Common Table Expression) improves readability \n",
    "but does not improve query speed or cost since results are not cached. The same holds for views and \n",
    "subqueries as well. If you find yourself using a WITH clause, view, or a subquery often, one way to potentially \n",
    "improve performance is to store the result into a table (or materialized view).\n",
    "First you will need to create a dataset named mydataset in the eu (multiple regions in European Union) region \n",
    "(where the bicycle data resides) under your project in BigQuery.\n",
    "•In the left pane in the Explorer section, click on the View action icon (three dots) near your BigQuery project \n",
    "(qwiklabs-gcp-xxxx) and select Create dataset. (mydataset)\n"
   ]
  },
  {
   "cell_type": "code",
   "execution_count": null,
   "metadata": {
    "vscode": {
     "languageId": "sql"
    }
   },
   "outputs": [],
   "source": [
    "-- Cache intermediate results\n",
    "\n",
    "CREATE OR REPLACE TABLE\n",
    "mydataset.typical_trip AS\n",
    "SELECT\n",
    "start_station_name,\n",
    "end_station_name,\n",
    "APPROX_QUANTILES(duration, 10)[OFFSET (5)] AS \n",
    "typical_duration,\n",
    "COUNT(duration) AS num_trips\n",
    "FROM\n",
    "`bigquery-public-data`.london_bicycles.cycle_hire\n",
    "GROUP BY\n",
    "start_station_name,\n",
    "end_station_name\n"
   ]
  },
  {
   "cell_type": "code",
   "execution_count": null,
   "metadata": {
    "vscode": {
     "languageId": "sql"
    }
   },
   "outputs": [],
   "source": [
    "-- 2.Use the table created to find days when bicycle trips are much longer than usual:\n",
    "SELECT\n",
    "EXTRACT (DATE\n",
    "FROM\n",
    "start_date) AS trip_date,\n",
    "APPROX_QUANTILES(duration / typical_duration, 10)[OFFSET(5)] AS \n",
    "ratio,\n",
    "COUNT(*) AS num_trips_on_day\n",
    "FROM\n",
    "`bigquery-public-data`.london_bicycles.cycle_hire AS hire\n",
    "JOIN\n",
    "mydataset.typical_trip AS trip\n",
    "ON\n",
    "hire.start_station_name = trip.start_station_name\n",
    "AND hire.end_station_name = trip.end_station_name\n",
    "AND num_trips > 10\n",
    "GROUP BY\n",
    "trip_date\n",
    "HAVING\n",
    "num_trips_on_day > 10\n",
    "ORDER BY\n",
    "ratio DESC\n",
    "LIMIT\n",
    "10\n"
   ]
  },
  {
   "attachments": {
    "image.png": {
     "image/png": "[encoded data removed]"
    }
   },
   "cell_type": "markdown",
   "metadata": {},
   "source": [
    "![image.png](attachment:image.png)"
   ]
  },
  {
   "cell_type": "code",
   "execution_count": null,
   "metadata": {
    "vscode": {
     "languageId": "sql"
    }
   },
   "outputs": [],
   "source": [
    "WITH\n",
    "typical_trip AS (\n",
    "SELECT\n",
    "start_station_name,\n",
    "end_station_name,\n",
    "APPROX_QUANTILES(duration, 10)[OFFSET (5)] AS typical_duration,\n",
    "COUNT(duration) AS num_trips\n",
    "FROM\n",
    "`bigquery-public-data`.london_bicycles.cycle_hire\n",
    "GROUP BY\n",
    "start_station_name,\n",
    "end_station_name )\n",
    "SELECT\n",
    "EXTRACT (DATE\n",
    "FROM\n",
    "start_date) AS trip_date,\n",
    "APPROX_QUANTILES(duration / typical_duration, 10)[\n",
    "OFFSET\n",
    "(5)] AS ratio,\n",
    "COUNT(*) AS num_trips_on_day\n",
    "FROM\n",
    "`bigquery-public-data`.london_bicycles.cycle_hire AS hire\n",
    "JOIN\n",
    "typical_trip AS trip\n",
    "ON\n",
    "hire.start_station_name = trip.start_station_name\n",
    "AND hire.end_station_name = trip.end_station_name\n",
    "AND num_trips > 10\n",
    "GROUP BY\n",
    "trip_date\n",
    "HAVING\n",
    "num_trips_on_day > 10\n",
    "ORDER BY\n",
    "ratio DESC\n",
    "LIMIT\n",
    "10"
   ]
  },
  {
   "attachments": {
    "image.png": {
     "image/png": "[encoded data removed]"
    }
   },
   "cell_type": "markdown",
   "metadata": {},
   "source": [
    "![image.png](attachment:image.png)"
   ]
  },
  {
   "attachments": {},
   "cell_type": "markdown",
   "metadata": {},
   "source": [
    "Notice the **~50% speedup** since the average trip duration \n",
    "computation is avoided. Both queries return the same \n",
    "result, that trips on Christmas take longer than usual. \n",
    "Note, the table mydataset.typical_trip is not refreshed when \n",
    "new data is added to the cycle_hire table. One way to solve \n",
    "this problem of stale data is to use a materialized view or \n",
    "to schedule queries to update the table periodically. You \n",
    "should measure the cost of such updates to see whether \n",
    "the improvement in query performance makes up for the \n",
    "extra cost of maintaining the table or materialized view up\u0002to-dat"
   ]
  },
  {
   "attachments": {},
   "cell_type": "markdown",
   "metadata": {},
   "source": [
    "### BI Engine\n",
    "Accelerate queries with BI Engine\n",
    "If there are tables that you access frequently in Business Intelligence (BI) settings such as \n",
    "dashboards with aggregations and filters, one way to speed up your queries is to employ BI \n",
    "Engine. It will automatically store relevant pieces of data in memory (either actual columns \n",
    "from the table or derived results), and will use a specialized query processor tuned for \n",
    "working with mostly in-memory data. You can reserve the amount of memory (up to a current \n",
    "maximum of 10 GB) that BigQuery should use for its cache from the BigQuery Admin Console, \n",
    "under BI Engine.\n",
    "Make sure to reserve this memory in the same region as the dataset you are querying. Then, \n",
    "BigQuery will start to cache tables, parts of tables, and aggregations in memory and serve \n",
    "results faster.\n",
    "A primary use case for BI Engine is for tables that are accessed from dashboard tools such \n",
    "as Google Data Studio. By providing memory allocation for a BI Engine reservation, we can \n",
    "make dashboards that rely on a BigQuery backend much more responsive.\n"
   ]
  },
  {
   "attachments": {},
   "cell_type": "markdown",
   "metadata": {},
   "source": [
    "### Efficient joins\n",
    "\n",
    "Joining two tables requires data coordination and is subject to limitations imposed by the communication bandwidth between slots. If \n",
    "it is possible to avoid a join, or reduce the amount of data being joined, do so.\n",
    "Denormalization\n",
    "One way to improve the read performance and avoid joins is to give up on storing data efficiently, and instead add redundant copies \n",
    "of data. This is called denormalization.\n",
    "1.Thus, instead of storing the bicycle station latitudes and longitudes separately from the cycle hire information, we could create a \n",
    "denormalized table:\n"
   ]
  },
  {
   "cell_type": "code",
   "execution_count": null,
   "metadata": {
    "vscode": {
     "languageId": "sql"
    }
   },
   "outputs": [],
   "source": [
    "CREATE OR REPLACE TABLE\n",
    "mydataset.london_bicycles_denorm AS\n",
    "SELECT\n",
    "start_station_id,\n",
    "s.latitude AS start_latitude,\n",
    "s.longitude AS start_longitude,\n",
    "end_station_id,\n",
    "e.latitude AS end_latitude,\n",
    "e.longitude AS end_longitude\n",
    "FROM\n",
    "`bigquery-public-data`.london_bicycles.cycle_hire AS h\n",
    "JOIN\n",
    "`bigquery-public-data`.london_bicycles.cycle_stations AS s\n",
    "ON\n",
    "h.start_station_id = s.id\n",
    "JOIN\n",
    "`bigquery-public-data`.london_bicycles.cycle_stations AS e\n",
    "ON\n",
    "h.end_station_id = e.id\n"
   ]
  },
  {
   "attachments": {},
   "cell_type": "markdown",
   "metadata": {},
   "source": [
    "**important note** Then, all subsequent queries will not need to carry \n",
    "out the join because the table will contain the \n",
    "necessary location information for all trips. In this \n",
    "case, you are trading off storage and reading more \n",
    "data against the computational expense of a join. It \n",
    "is quite possible that the cost of reading more data \n",
    "from disk will outweigh the cost of the join -- you \n",
    "should measure whether denormalization brings \n",
    "performance benefits."
   ]
  },
  {
   "attachments": {},
   "cell_type": "markdown",
   "metadata": {},
   "source": [
    "### Avoid self-joins of large tables\n",
    "Self-joins happen when a table is joined with itself. While BigQuery supports self-joins, they can lead to performance \n",
    "degradation if the table being joined with itself is very large. In many cases, you can avoid the self-join by taking \n",
    "advantage of SQL features such as aggregation and window functions.\n",
    "1.Let’s look at an example. One of the BigQuery public datasets is the dataset of baby names published by the US \n",
    "Social Security Administration. It is possible to query the dataset to find the most common male names in 2015 in \n",
    "the state of Massachusetts (Make sure your query is running in the us (multiple regions in United States) region by \n",
    "selecting More > Query settings > Additional settings > Data location):"
   ]
  },
  {
   "cell_type": "code",
   "execution_count": null,
   "metadata": {
    "vscode": {
     "languageId": "sql"
    }
   },
   "outputs": [],
   "source": [
    "SELECT\n",
    "name,\n",
    "number AS num_babies\n",
    "FROM\n",
    "`bigquery-public-data`.usa_names.usa_1910_current\n",
    "WHERE\n",
    "gender = 'M'\n",
    "AND year = 2015\n",
    "AND state = 'MA'\n",
    "ORDER BY\n",
    "num_babies DESC\n",
    "LIMIT\n",
    "5\n"
   ]
  },
  {
   "attachments": {},
   "cell_type": "markdown",
   "metadata": {},
   "source": [
    "2.Similarly, query the dataset to find the most common \n",
    "female names in 2015 in the state of Massachusetts:\n",
    "3.What are the most common names assigned to both male and female babies in the country over all the years in the dataset? A naive way to solve this \n",
    "problem involves reading the input table twice and doing a self-join:"
   ]
  },
  {
   "cell_type": "code",
   "execution_count": null,
   "metadata": {
    "vscode": {
     "languageId": "sql"
    }
   },
   "outputs": [],
   "source": [
    "WITH\n",
    "male_babies AS (\n",
    "SELECT\n",
    "name,\n",
    "number AS num_babies\n",
    "FROM\n",
    "`bigquery-public-data`.usa_names.usa_1910_current\n",
    "WHERE\n",
    "gender = 'M' ),\n",
    "female_babies AS (\n",
    "SELECT\n",
    "name,\n",
    "number AS num_babies\n",
    "FROM\n",
    "`bigquery-public-data`.usa_names.usa_1910_current\n",
    "WHERE\n",
    "gender = 'F' ),\n",
    "both_genders AS (\n",
    "SELECT\n",
    "name,\n",
    "SUM(m.num_babies) + SUM(f.num_babies) AS num_babies,\n",
    "SUM(m.num_babies) / (SUM(m.num_babies) + SUM(f.num_babies)) AS frac_male\n",
    "FROM\n",
    "male_babies AS m\n",
    "JOIN\n",
    "female_babies AS f\n",
    "USING\n",
    "(name)\n",
    "GROUP BY\n",
    "name )\n",
    "SELECT\n",
    "*\n",
    "FROM\n",
    "both_genders\n",
    "WHERE\n",
    "frac_male BETWEEN 0.3\n",
    "AND 0.7\n",
    "ORDER BY\n",
    "num_babies DESC\n",
    "LIMIT 5\n"
   ]
  },
  {
   "attachments": {},
   "cell_type": "markdown",
   "metadata": {},
   "source": [
    "To add insult to injury, the answer is also wrong -- as much as we like the name Jordan, the entire US population is \n",
    "only 300 million, so there cannot have been 982 million babies with that name. The self-JOIN unfortunately joins \n",
    "across state and year boundaries.\n",
    "4.A faster, more elegant (and correct!) solution is to recast the query to read the input only once and avoid the self\u0002join completely."
   ]
  },
  {
   "cell_type": "code",
   "execution_count": null,
   "metadata": {
    "vscode": {
     "languageId": "sql"
    }
   },
   "outputs": [],
   "source": [
    "WITH\n",
    "all_babies AS (\n",
    "SELECT\n",
    "name,\n",
    "SUM(\n",
    "IF\n",
    "(gender = 'M',\n",
    "number,\n",
    "0)) AS male_babies,\n",
    "SUM(\n",
    "IF\n",
    "(gender = 'F',\n",
    "number,\n",
    "0)) AS female_babies\n",
    "FROM\n",
    "`bigquery-public-data.usa_names.usa_1910_current`\n",
    "GROUP BY\n",
    "name ),\n",
    "both_genders AS (\n",
    "SELECT\n",
    "name,\n",
    "(male_babies + female_babies) AS num_babies,\n",
    "SAFE_DIVIDE(male_babies,\n",
    "male_babies + female_babies) AS frac_male \n",
    "FROM\n",
    "all_babies\n",
    "WHERE\n",
    "male_babies > 0\n",
    "AND female_babies > 0 )\n",
    "SELECT\n",
    "*\n",
    "FROM\n",
    "both_genders\n",
    "WHERE\n",
    "frac_male BETWEEN 0.3\n",
    "AND 0.7\n",
    "ORDER BY\n",
    "num_babies DESC\n",
    "LIMIT\n",
    "5\n"
   ]
  },
  {
   "attachments": {},
   "cell_type": "markdown",
   "metadata": {},
   "source": [
    "**This took only 2.4 seconds, a 30x speedup.**"
   ]
  },
  {
   "attachments": {},
   "cell_type": "markdown",
   "metadata": {},
   "source": [
    "### Reduce data being joined\n",
    "It is possible to carry out the query above with an efficient join as long as we reduce the amount of data being joined by grouping the \n",
    "data by name and gender early on:"
   ]
  },
  {
   "cell_type": "code",
   "execution_count": null,
   "metadata": {
    "vscode": {
     "languageId": "sql"
    }
   },
   "outputs": [],
   "source": [
    "WITH\n",
    "all_names AS (\n",
    "SELECT\n",
    "name,\n",
    "gender,\n",
    "SUM(number) AS num_babies\n",
    "FROM\n",
    "`bigquery-public-data`.usa_names.usa_1910_current\n",
    "GROUP BY\n",
    "name,\n",
    "gender ),\n",
    "male_names AS (\n",
    "SELECT\n",
    "name,\n",
    "num_babies\n",
    "FROM\n",
    "all_names\n",
    "WHERE\n",
    "gender = 'M' ),\n",
    "female_names AS (\n",
    "SELECT\n",
    "name,\n",
    "num_babies\n",
    "FROM\n",
    "all_names\n",
    "WHERE\n",
    "gender = 'F' ),\n",
    "ratio AS (\n",
    "SELECT\n",
    "name,\n",
    "(f.num_babies + m.num_babies) AS num_babies,\n",
    "m.num_babies / (f.num_babies + m.num_babies) AS frac_male\n",
    "FROM\n",
    "male_names AS m\n",
    "JOIN\n",
    "female_names AS f\n",
    "USING\n",
    "(name) )\n",
    "SELECT\n",
    "*\n",
    "FROM\n",
    "ratio\n",
    "WHERE\n",
    "frac_male BETWEEN 0.3\n",
    "AND 0.7\n",
    "ORDER BY\n",
    "num_babies DESC\n",
    "LIMIT 5\n"
   ]
  },
  {
   "attachments": {},
   "cell_type": "markdown",
   "metadata": {},
   "source": [
    "The early grouping served to trim the data early in the query, \n",
    "before the query performs a JOIN. That way, shuffling and other \n",
    "complex operations only executed on the much smaller data and \n",
    "remain quite efficient. The query above finished in 2 seconds and \n",
    "returned the correct result."
   ]
  },
  {
   "attachments": {},
   "cell_type": "markdown",
   "metadata": {},
   "source": [
    "### Use a window function instead of a self-join\n",
    "Suppose you wish to find the duration between a bike being dropped off and it being rented again, i.e., the duration that \n",
    "a bicycle stays at the station. This is an example of a dependent relationship between rows. It might appear that the \n",
    "only way to solve this is to join the table with itself, matching the end_date of one trip against the start_date of the next. \n",
    "(Make sure your query is running in the eu (multiple regions in European Union) region by selecting More > Query \n",
    "settings > Additional settings > Data location)\n",
    "1.You can, however, avoid a self-join by using a window function"
   ]
  },
  {
   "cell_type": "code",
   "execution_count": null,
   "metadata": {
    "vscode": {
     "languageId": "sql"
    }
   },
   "outputs": [],
   "source": [
    "SELECT\n",
    "bike_id,\n",
    "start_date,\n",
    "end_date,\n",
    "TIMESTAMP_DIFF( start_date, LAG(end_date) OVER (PARTITION\n",
    "BY bike_id ORDER BY start_date), SECOND) AS time_at_station\n",
    "FROM\n",
    "`bigquery-public-data`.london_bicycles.cycle_hire\n",
    "LIMIT\n",
    "5\n"
   ]
  },
  {
   "attachments": {},
   "cell_type": "markdown",
   "metadata": {},
   "source": [
    "Notice that the first row has a null for time_at_station since we don’t have a timestamp for the previous dropoff. After \n",
    "that, the time_at_station tracks the difference between the previous dropoff and the current pickup.\n",
    "2.Using this, we can compute the average time that a bicycle is unused at each station and rank stations by that \n",
    "measure:\n"
   ]
  },
  {
   "cell_type": "code",
   "execution_count": null,
   "metadata": {
    "vscode": {
     "languageId": "sql"
    }
   },
   "outputs": [],
   "source": [
    "WITH\n",
    "unused AS (\n",
    "SELECT\n",
    "bike_id,\n",
    "start_station_name,\n",
    "start_date,\n",
    "end_date,\n",
    "TIMESTAMP_DIFF(start_date, LAG(end_date) OVER (PARTITION BY \n",
    "bike_id ORDER BY start_date), SECOND) AS time_at_station\n",
    "FROM\n",
    "`bigquery-public-data`.london_bicycles.cycle_hire )\n",
    "SELECT\n",
    "start_station_name,\n",
    "AVG(time_at_station) AS unused_seconds\n",
    "FROM\n",
    "unused\n",
    "GROUP BY\n",
    "start_station_name\n",
    "ORDER BY\n",
    "unused_seconds ASC\n",
    "LIMIT\n",
    "5\n"
   ]
  },
  {
   "attachments": {},
   "cell_type": "markdown",
   "metadata": {},
   "source": [
    "### Join with precomputed values\n",
    "Sometimes, it can be helpful to precompute functions on smaller tables, and then join with the precomputed values rather than\n",
    "repeat an expensive calculation each time.\n",
    "For example, suppose we wish to find the pair of stations between which our customers ride bicycles at the fastest pace. To \n",
    "compute the pace (minutes per kilometer) at which they ride, we need to divide the duration of the ride by the distance between \n",
    "stations.\n",
    "1.We could create a denormalized table with distances between stations and then compute the average pace:\n"
   ]
  },
  {
   "cell_type": "code",
   "execution_count": null,
   "metadata": {
    "vscode": {
     "languageId": "sql"
    }
   },
   "outputs": [],
   "source": [
    "WITH\n",
    "denormalized_table AS (\n",
    "SELECT\n",
    "start_station_name,\n",
    "end_station_name,\n",
    "ST_DISTANCE(ST_GeogPoint(s1.longitude,\n",
    "s1.latitude),\n",
    "ST_GeogPoint(s2.longitude,\n",
    "s2.latitude)) AS distance,\n",
    "duration\n",
    "FROM\n",
    "`bigquery-public-data`.london_bicycles.cycle_hire AS h\n",
    "JOIN\n",
    "`bigquery-public-data`.london_bicycles.cycle_stations AS s1\n",
    "ON\n",
    "h.start_station_id = s1.id\n",
    "JOIN\n",
    "`bigquery-public-data`.london_bicycles.cycle_stations AS s2\n",
    "ON\n",
    "h.end_station_id = s2.id ),\n",
    "durations AS (\n",
    "SELECT\n",
    "start_station_name,\n",
    "end_station_name,\n",
    "MIN(distance) AS distance,\n",
    "AVG(duration) AS duration,\n",
    "COUNT(*) AS num_rides\n",
    "FROM\n",
    "denormalized_table\n",
    "WHERE\n",
    "duration > 0\n",
    "AND distance > 0\n",
    "GROUP BY\n",
    "start_station_name,\n",
    "end_station_name\n",
    "HAVING\n",
    "num_rides > 100 )\n",
    "SELECT\n",
    "start_station_name,\n",
    "end_station_name,\n",
    "distance,\n",
    "duration,\n",
    "duration/distance AS pace\n",
    "FROM durations\n",
    "ORDER BY pace ASC\n",
    "LIMIT 5\n"
   ]
  },
  {
   "attachments": {},
   "cell_type": "markdown",
   "metadata": {},
   "source": [
    "he above query invokes the geospatial function ST_DISTANCE once for each row in the cycle_hire table (24 million \n",
    "times), takes 14.7 seconds and processes 1.9 GB\n",
    "2.Alternately, we can use the cycle_stations table to precompute the distance between every pair of stations (this is a \n",
    "self-join) and then join it with the reduced-size table of average duration between stations:\n"
   ]
  },
  {
   "cell_type": "code",
   "execution_count": null,
   "metadata": {
    "vscode": {
     "languageId": "sql"
    }
   },
   "outputs": [],
   "source": [
    "WITH\n",
    "distances AS (\n",
    "SELECT\n",
    "a.id AS start_station_id,\n",
    "a.name AS start_station_name,\n",
    "b.id AS end_station_id,\n",
    "b.name AS end_station_name,\n",
    "ST_DISTANCE(ST_GeogPoint(a.longitude,\n",
    "a.latitude),\n",
    "ST_GeogPoint(b.longitude,\n",
    "b.latitude)) AS distance\n",
    "FROM\n",
    "`bigquery-public-data`.london_bicycles.cycle_stations a\n",
    "CROSS JOIN\n",
    "`bigquery-public-data`.london_bicycles.cycle_stations b\n",
    "WHERE\n",
    "a.id != b.id ),\n",
    "durations AS (\n",
    "SELECT\n",
    "start_station_id,\n",
    "end_station_id,\n",
    "AVG(duration) AS duration,\n",
    "COUNT(*) AS num_rides\n",
    "FROM\n",
    "`bigquery-public-data`.london_bicycles.cycle_hire\n",
    "WHERE\n",
    "duration > 0\n",
    "GROUP BY\n",
    "start_station_id,\n",
    "end_station_id\n",
    "HAVING\n",
    "num_rides > 100 )\n",
    "SELECT\n",
    "start_station_name,\n",
    "end_station_name,\n",
    "distance,\n",
    "duration,\n",
    "duration/distance AS pace\n",
    "FROM\n",
    "distances\n",
    "JOIN\n",
    "durations\n",
    "USING\n",
    "(start_station_id,\n",
    "end_station_id)\n",
    "ORDER BYpace ASC\n",
    "LIMIT 5\n"
   ]
  },
  {
   "attachments": {},
   "cell_type": "markdown",
   "metadata": {},
   "source": [
    "The recast query with the more efficient joins takes only 8.2\n",
    "seconds, a 1.8x speedup and processes 554 MB, a nearly 4x \n",
    "reduction in cost."
   ]
  },
  {
   "attachments": {},
   "cell_type": "markdown",
   "metadata": {},
   "source": [
    "### Avoid overwhelming a worker\n",
    "Some operations (e.g. ordering) have to be carried out on a single worker. Having to sort too much data can overwhelm \n",
    "a worker’s memory and result in a “resources exceeded” error. Avoid overwhelming the worker with too much data. As \n",
    "the hardware in Google data centers is upgraded, what “too much” means in this context expands over time. Currently, \n",
    "this is on the order of one GB.\n",
    "Limiting large sorts\n",
    "1.Let’s say that we wish to go through the rentals and number them 1, 2, 3, etc. in the order that the rental ended. We \n",
    "could do that using the ROW_NUMBER() function"
   ]
  },
  {
   "cell_type": "code",
   "execution_count": null,
   "metadata": {
    "vscode": {
     "languageId": "sql"
    }
   },
   "outputs": [],
   "source": [
    "SELECT\n",
    "rental_id,\n",
    "ROW_NUMBER() OVER(ORDER BY end_date) AS rental_number\n",
    "FROM\n",
    "`bigquery-public-data.london_bicycles.cycle_hire`\n",
    "ORDER BY\n",
    "rental_number ASC\n",
    "LIMIT\n",
    "5"
   ]
  },
  {
   "attachments": {},
   "cell_type": "markdown",
   "metadata": {},
   "source": [
    "t takes 34.5 seconds to process just 372 MB because it needs to sort the entirety of the London bicycles dataset on a single worker. \n",
    "Had we processed a larger dataset, it would have overwhelmed that worker.\n",
    "2.We might want to consider whether it is possible to limit the large sorts and distribute them. Indeed, it is possible to extract the date \n",
    "from the rentals and then sort trips within each day:\n"
   ]
  },
  {
   "cell_type": "code",
   "execution_count": null,
   "metadata": {
    "vscode": {
     "languageId": "sql"
    }
   },
   "outputs": [],
   "source": [
    "WITH\n",
    "rentals_on_day AS (\n",
    "SELECT\n",
    "rental_id,\n",
    "end_date,\n",
    "EXTRACT(DATE\n",
    "FROM\n",
    "end_date) AS rental_date\n",
    "FROM\n",
    "`bigquery-public-data.london_bicycles.cycle_hire` )\n",
    "SELECT\n",
    "rental_id,\n",
    "rental_date,\n",
    "ROW_NUMBER() OVER(PARTITION BY rental_date ORDER BY end_date) \n",
    "AS rental_number_on_day\n",
    "FROM\n",
    "rentals_on_day\n",
    "ORDER BY\n",
    "rental_date ASC,\n",
    "rental_number_on_day ASC\n",
    "LIMIT\n",
    "5"
   ]
  },
  {
   "attachments": {},
   "cell_type": "markdown",
   "metadata": {},
   "source": [
    "**This takes 15.1 seconds (a 2x speedup) because the \n",
    "sorting can be done on just a single day of data at a time.**"
   ]
  },
  {
   "attachments": {},
   "cell_type": "markdown",
   "metadata": {},
   "source": [
    "### Data skew\n",
    "The same problem of overwhelming a worker (in this case, overwhelm the memory of the worker) can happen during \n",
    "an ARRAY_AGG with GROUP BY if one of the keys is much more common than the others.\n",
    "1.Because there are more than 3 million GitHub repositories and the commits are well distributed among them, this \n",
    "query succeeds (make sure you execute the query in the us (multiple regions in United States) processing center):\n"
   ]
  },
  {
   "cell_type": "code",
   "execution_count": null,
   "metadata": {
    "vscode": {
     "languageId": "sql"
    }
   },
   "outputs": [],
   "source": [
    "SELECT\n",
    "repo_name,\n",
    "ARRAY_AGG(STRUCT(author,\n",
    "committer,\n",
    "subject,\n",
    "message,\n",
    "trailer,\n",
    "difference,\n",
    "encoding)\n",
    "ORDER BY\n",
    "author.date.seconds)\n",
    "FROM\n",
    "`bigquery-public-data.github_repos.commits`,\n",
    "UNNEST(repo_name) AS repo_name\n",
    "GROUP BY\n",
    "repo_name\n"
   ]
  },
  {
   "attachments": {},
   "cell_type": "markdown",
   "metadata": {},
   "source": [
    "Note, while this query will succeed, it can take upwards of 15 minutes to do so. If you understand the query, move on \n",
    "in the lab.\n",
    "2.Most of the people using GitHub live in only a few time zones, so grouping by the timezone fails -- we are asking a \n",
    "single worker to sort a significant fraction of 750GB:\n"
   ]
  },
  {
   "cell_type": "code",
   "execution_count": null,
   "metadata": {
    "vscode": {
     "languageId": "sql"
    }
   },
   "outputs": [],
   "source": [
    "SELECT\n",
    "author.tz_offset,\n",
    "ARRAY_AGG(STRUCT(author,\n",
    "committer,\n",
    "subject,\n",
    "message,\n",
    "trailer,\n",
    "difference,\n",
    "encoding)\n",
    "ORDER BY\n",
    "author.date.seconds)\n",
    "FROM\n",
    "`bigquery-public-data.github_repos.commits`\n",
    "GROUP BY\n",
    "author.tz_offset\n",
    "-- can't query rows larger than 100MB"
   ]
  },
  {
   "attachments": {},
   "cell_type": "markdown",
   "metadata": {},
   "source": [
    "3.If you do require sorting all the data, use more granular keys (i.e. distribute the group’s data over more workers) \n",
    "and then aggregate the results corresponding to the desired key. For example, instead of grouping only by the \n",
    "time zone, it is possible to group by both timezone and repo_name and then aggregate across repos to get the \n",
    "actual answer for each timezone:"
   ]
  },
  {
   "cell_type": "code",
   "execution_count": null,
   "metadata": {
    "vscode": {
     "languageId": "sql"
    }
   },
   "outputs": [],
   "source": [
    "SELECT\n",
    "repo_name,\n",
    "author.tz_offset,\n",
    "ARRAY_AGG(STRUCT(author,\n",
    "committer,\n",
    "subject,\n",
    "message,\n",
    "trailer,\n",
    "difference,\n",
    "encoding)\n",
    "ORDER BY\n",
    "author.date.seconds)\n",
    "FROM\n",
    "`bigquery-public-data.github_repos.commits`,\n",
    "UNNEST(repo_name) AS repo_name\n",
    "GROUP BY\n",
    "repo_name,\n",
    "author.tz_offset\n"
   ]
  },
  {
   "attachments": {},
   "cell_type": "markdown",
   "metadata": {},
   "source": [
    "### Approximate aggregation functions\n",
    "BigQuery provides fast, low-memory approximations of aggregate functions. Instead of using COUNT(DISTINCT …), we \n",
    "can use APPROX_COUNT_DISTINCT on large data streams when a small statistical uncertainty in the result is \n",
    "tolerable.\n",
    "Approximate count\n",
    "1.We can find the number of unique GitHub repositories using:"
   ]
  },
  {
   "cell_type": "code",
   "execution_count": null,
   "metadata": {
    "vscode": {
     "languageId": "sql"
    }
   },
   "outputs": [],
   "source": [
    "SELECT\n",
    "COUNT(DISTINCT repo_name) AS num_repos\n",
    "FROM\n",
    "`bigquery-public-data`.github_repos.commits,\n",
    "UNNEST(repo_name) AS repo_name"
   ]
  },
  {
   "attachments": {},
   "cell_type": "markdown",
   "metadata": {},
   "source": [
    "The above query takes 8.3 seconds to compute the correct result of 3347770"
   ]
  },
  {
   "cell_type": "code",
   "execution_count": null,
   "metadata": {
    "vscode": {
     "languageId": "sql"
    }
   },
   "outputs": [],
   "source": [
    "SELECT\n",
    "APPROX_COUNT_DISTINCT(repo_name) AS num_repos\n",
    "FROM\n",
    "`bigquery-public-data`.github_repos.commits,\n",
    "UNNEST(repo_name) AS repo_name\n"
   ]
  },
  {
   "attachments": {},
   "cell_type": "markdown",
   "metadata": {},
   "source": [
    "takes 3.9 seconds (a 2x speedup) and returns an approximate result of 3399473, which overestimates the correct \n",
    "answer by 1.5%.\n",
    "The approximate algorithm is much more efficient than the exact algorithm only on large datasets and is \n",
    "recommended in use-cases where errors of approximately 1% are tolerable. Before using the approximate function, \n",
    "measure on your use case!\n",
    "Other available approximate functions include APPROX_QUANTILES to compute percentiles, APPROX_TOP_COUNT to \n",
    "find the top elements and APPROX_TOP_SUM to compute top elements based on the sum of an element."
   ]
  },
  {
   "attachments": {},
   "cell_type": "markdown",
   "metadata": {},
   "source": [
    "## clustering in bigquery\n",
    "\n",
    "Clustering is a technique to group similar data points together in the same cluster. Clustering can be used to improve\n",
    "performance and reduce cost in BigQuery. Clustering is a good fit for data that is accessed sequentially, filtered by one or\n",
    "more columns, and grouped by one or more columns. Clustering is not a good fit for data that is updated frequently or\n",
    "where the clustered columns have high cardinality (many distinct values). Clustering is also not a good fit for data that is\n",
    "not accessed sequentially.\n",
    "\n",
    "* Clustering : storage optimization within columnar segments to improve filtering and record colocation\n",
    "* Clustering performance and cost saving can’t be assessed before query begin \n",
    "* Prioritized clustering of up to 4 columns, on more diverse types (but no nested columns )\n",
    "\n",
    "When to use clustering \n",
    "•\tYour data is already partitioned on DATE ot TIMESTAMP  OR interger Range\n",
    "•\tYou commonly use filter ot aggregation against particular columns in your queries\n",
    "\n",
    "\n"
   ]
  }
 ],
 "metadata": {
  "language_info": {
   "name": "python"
  },
  "orig_nbformat": 4
 },
 "nbformat": 4,
 "nbformat_minor": 2
}
