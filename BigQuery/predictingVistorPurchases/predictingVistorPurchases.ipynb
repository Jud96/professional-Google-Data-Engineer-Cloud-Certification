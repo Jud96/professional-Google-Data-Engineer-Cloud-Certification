{
 "cells": [
  {
   "attachments": {},
   "cell_type": "markdown",
   "metadata": {},
   "source": [
    "# Predicting Visitor Purchases with a Classification Model with Big Query ML\n",
    "## objectives\n",
    "* Use BigQuery to find public datasets\n",
    "* Query and explore the ecommerce dataset\n",
    "* Create a training and evaluation dataset to be used for batch prediction\n",
    "* Create a classification (logistic regression) model in BigQuery ML\n",
    "* Evaluate the performance of your machine learning model\n",
    "* Predict and rank the probability that a visitor will make a purchase"
   ]
  },
  {
   "attachments": {},
   "cell_type": "markdown",
   "metadata": {},
   "source": [
    "## Access to public datasets\n",
    "Once BigQuery is open, open [data-to-insights](https://console.cloud.google.com/bigquery?p=data-to-insights&d=ecommerce&t=web_analytics&page=table) project in a new browser tab to bring this project into your BigQuery projects panel. <br>\n",
    "The field definitions for the data-to-insights ecommerce \n",
    "dataset are [here](https://support.google.com/analytics/answer/3437719?hl=en). Keep the link open in a new tab for reference\n",
    "\n",
    "## Explore ecommerce data"
   ]
  },
  {
   "cell_type": "code",
   "execution_count": null,
   "metadata": {
    "vscode": {
     "languageId": "sql"
    }
   },
   "outputs": [],
   "source": [
    "-- Question: Out of the total visitors who visited our website, what % made a purchase?\n",
    "-- standardSQL\n",
    "WITH visitors AS(\n",
    "SELECT\n",
    "COUNT(DISTINCT fullVisitorId) AS total_visitors\n",
    "FROM `data-to-insights.ecommerce.web_analytics` # public dataset on bigquery\n",
    "),\n",
    "purchasers AS(\n",
    "SELECT\n",
    "COUNT(DISTINCT fullVisitorId) AS total_purchasers\n",
    "FROM `data-to-insights.ecommerce.web_analytics`\n",
    "WHERE totals.transactions IS NOT NULL\n",
    ")\n",
    "SELECT\n",
    "total_visitors,\n",
    "total_purchasers,\n",
    "total_purchasers / total_visitors AS conversion_rate\n",
    "FROM visitors, purchasers"
   ]
  },
  {
   "cell_type": "code",
   "execution_count": null,
   "metadata": {
    "vscode": {
     "languageId": "sql"
    }
   },
   "outputs": [],
   "source": [
    "-- Question: What are the top 5 selling products?\n",
    "-- standardSQL\n",
    "SELECT\n",
    "p.v2ProductName,\n",
    "p.v2ProductCategory,\n",
    "SUM(p.productQuantity) AS units_sold,\n",
    "ROUND(SUM(p.localProductRevenue/1000000),2) AS revenue\n",
    "FROM `data-to-insights.ecommerce.web_analytics`,\n",
    "UNNEST(hits) AS h,\n",
    "UNNEST(h.product) AS p\n",
    "GROUP BY 1, 2\n",
    "ORDER BY revenue DESC\n",
    "LIMIT 5;"
   ]
  },
  {
   "cell_type": "code",
   "execution_count": null,
   "metadata": {
    "vscode": {
     "languageId": "sql"
    }
   },
   "outputs": [],
   "source": [
    "-- Question: How many visitors bought on subsequent visits to the website?\n",
    "-- visitors who bought on a return visit (could have bought on first as well\n",
    "WITH all_visitor_stats AS (\n",
    "SELECT\n",
    "fullvisitorid, --741,721 unique visitors\n",
    "IF(COUNTIF(totals.transactions > 0 AND totals.newVisits IS NULL) > 0, 1, 0) AS \n",
    "will_buy_on_return_visit\n",
    "FROM `data-to-insights.ecommerce.web_analytics`\n",
    "GROUP BY fullvisitorid\n",
    ")\n",
    "SELECT\n",
    "COUNT(DISTINCT fullvisitorid) AS total_visitors,\n",
    "will_buy_on_return_visit\n",
    "FROM all_visitor_stats\n",
    "GROUP BY will_buy_on_return_visit\n"
   ]
  },
  {
   "attachments": {},
   "cell_type": "markdown",
   "metadata": {},
   "source": [
    "## Select features and create your training dataset"
   ]
  },
  {
   "cell_type": "code",
   "execution_count": null,
   "metadata": {
    "vscode": {
     "languageId": "sql"
    }
   },
   "outputs": [],
   "source": [
    "SELECT\n",
    "* EXCEPT(fullVisitorId)\n",
    "FROM\n",
    "# features\n",
    "(SELECT\n",
    "fullVisitorId,\n",
    "IFNULL(totals.bounces, 0) AS bounces,\n",
    "IFNULL(totals.timeOnSite, 0) AS time_on_site # deal with missing values\n",
    "FROM\n",
    "`data-to-insights.ecommerce.web_analytics`\n",
    "WHERE\n",
    "totals.newVisits = 1)\n",
    "JOIN\n",
    "(SELECT\n",
    "fullvisitorid,\n",
    "IF(COUNTIF(totals.transactions > 0 AND totals.newVisits IS NULL) > 0, 1, 0)\n",
    "AS will_buy_on_return_visit\n",
    "FROM\n",
    "`data-to-insights.ecommerce.web_analytics`\n",
    "GROUP BY fullvisitorid)\n",
    "USING (fullVisitorId)\n",
    "ORDER BY time_on_site DESC\n",
    "LIMIT 10;"
   ]
  },
  {
   "attachments": {},
   "cell_type": "markdown",
   "metadata": {},
   "source": [
    "## ML model\n",
    "| term | definition |\n",
    "| ---- | ---------- |\n",
    "| Labels     |  dentify column as 'label' or specify column in OPTIONS using input_label_cols          |\n",
    "|Features |Data columns that are part of your SELECT statement, after your CREATE MODEL statement. SELECT * FROM ML.FEATURE_INFO (MODEL 'mydataset.mymodel)|\n",
    "|Model object |An object created in BigQuery that resides in your BigQuery dataset.|\n",
    "| Model types |The type of model you are creating. For example, linear regression, logistic regression, K-means clustering, etc. CREATE OR REPLACE MODEL <dataset>. <name> OPTIONS (model_type='<type>') AS <training dataset>|\n",
    "|Training progress|SELECT * FROM ML. TRAINING INFO (MODEL 'mydataset.mymodel)|\n",
    "|Inspect weights|SELECT * FROM ML. WEIGHTS (MODEL 'mydataset.mymodel, (<query>))\n",
    "|Evaluation|SELECT * FROM ML. EVALUATE (MODEL mydataset.mymodel`)|\n",
    "|Prediction|SELECT FROM ML. PREDICT (MODEL 'mydataset.mymodel, (<query>))|\n",
    "\n",
    "\n",
    "\n",
    "\n",
    "\n",
    "\n",
    "\n",
    " \n"
   ]
  },
  {
   "attachments": {},
   "cell_type": "markdown",
   "metadata": {},
   "source": [
    "* Classification\n",
    "   * Logistic regression\n",
    "   * DNN classifier (TensorFlow)\n",
    "   * XGBoost\n",
    "   * AutoML Tables\n",
    "   * Wide and Deep NNS\n",
    "* Regression\n",
    "   * Linear regression\n",
    "   * DNN regressor (TensorFlow)\n",
    "   * XGBoost\n",
    "   * AutoML Tables\n",
    "   * Wide and Deep NNS\n",
    "* Other models\n",
    "   * k-means clustering\n",
    "   * Time series forecasting (ARIMA+)\n",
    "   * Recommendation: Matrix factorization\n",
    "   * Anomaly Detection\n"
   ]
  },
  {
   "cell_type": "code",
   "execution_count": null,
   "metadata": {
    "vscode": {
     "languageId": "sql"
    }
   },
   "outputs": [],
   "source": [
    "-- Dataset ID, type ecommerce # Create a BigQuery dataset to store models\n",
    "CREATE OR REPLACE MODEL `ecommerce.classification_model`\n",
    "OPTIONS\n",
    "(\n",
    "model_type='logistic_reg',\n",
    "labels = ['will_buy_on_return_visit']\n",
    ")\n",
    "AS\n",
    "#standardSQL\n",
    "SELECT\n",
    "* EXCEPT(fullVisitorId)\n",
    "FROM\n",
    "# features\n",
    "(SELECT\n",
    "fullVisitorId,\n",
    "IFNULL(totals.bounces, 0) AS bounces,\n",
    "IFNULL(totals.timeOnSite, 0) AS time_on_site\n",
    "FROM\n",
    "`data-to-insights.ecommerce.web_analytics`\n",
    "WHERE\n",
    "totals.newVisits = 1\n",
    "AND date BETWEEN '20160801' AND '20170430') # train on \n",
    "first 9 months\n",
    "JOIN\n",
    "(SELECT\n",
    "fullvisitorid,\n",
    "IF(COUNTIF(totals.transactions > 0 AND totals.newVisits IS \n",
    "NULL) > 0, 1, 0) AS will_buy_on_return_visit\n",
    "FROM\n",
    "`data-to-insights.ecommerce.web_analytics`\n",
    "GROUP BY fullvisitorid)\n",
    "USING (fullVisitorId)\n",
    ";\n"
   ]
  },
  {
   "attachments": {},
   "cell_type": "markdown",
   "metadata": {},
   "source": [
    "## Evaluate classification model performance"
   ]
  },
  {
   "cell_type": "code",
   "execution_count": null,
   "metadata": {
    "vscode": {
     "languageId": "sql"
    }
   },
   "outputs": [],
   "source": [
    "SELECT\n",
    "roc_auc,\n",
    "CASE\n",
    "WHEN roc_auc > .9 THEN 'good'\n",
    "WHEN roc_auc > .8 THEN 'fair'\n",
    "WHEN roc_auc > .7 THEN 'not great'\n",
    "ELSE 'poor' END AS model_quality\n",
    "FROM\n",
    "ML.EVALUATE(MODEL ecommerce.classification_model, (\n",
    "SELECT\n",
    "* EXCEPT(fullVisitorId)\n",
    "FROM\n",
    "# features\n",
    "(SELECT\n",
    "fullVisitorId,\n",
    "IFNULL(totals.bounces, 0) AS bounces,\n",
    "IFNULL(totals.timeOnSite, 0) AS time_on_site\n",
    "FROM\n",
    "`data-to-insights.ecommerce.web_analytics`\n",
    "WHERE\n",
    "totals.newVisits = 1\n",
    "AND date BETWEEN '20170501' AND '20170630') -- eval on 2 months\n",
    "JOIN\n",
    "(SELECT\n",
    "fullvisitorid,\n",
    "IF(COUNTIF(totals.transactions > 0 AND totals.newVisits IS \n",
    "NULL) > 0, 1, 0) AS will_buy_on_return_visit\n",
    "FROM\n",
    "`data-to-insights.ecommerce.web_analytics`\n",
    "GROUP BY fullvisitorid)\n",
    "USING (fullVisitorId)\n",
    "));"
   ]
  },
  {
   "attachments": {},
   "cell_type": "markdown",
   "metadata": {},
   "source": [
    "## Improve model performance with feature engineering"
   ]
  },
  {
   "cell_type": "code",
   "execution_count": null,
   "metadata": {
    "vscode": {
     "languageId": "sql"
    }
   },
   "outputs": [],
   "source": [
    "CREATE OR REPLACE MODEL `ecommerce.classification_model_2`\n",
    "OPTIONS\n",
    "(model_type='logistic_reg', labels = ['will_buy_on_return_visit']) AS\n",
    "WITH all_visitor_stats AS (\n",
    "SELECT\n",
    "fullvisitorid,\n",
    "IF(COUNTIF(totals.transactions > 0 AND totals.newVisits IS NULL) > 0, \n",
    "1, 0) AS will_buy_on_return_visit\n",
    "FROM `data-to-insights.ecommerce.web_analytics`\n",
    "GROUP BY fullvisitorid\n",
    ")\n",
    "-- add in new features\n",
    "SELECT * EXCEPT(unique_session_id) FROM (\n",
    "SELECT\n",
    "CONCAT(fullvisitorid, CAST(visitId AS STRING)) AS \n",
    "unique_session_id,\n",
    "-- labels\n",
    "will_buy_on_return_visit,\n",
    "MAX(CAST(h.eCommerceAction.action_type AS INT64)) AS\n",
    "latest_ecommerce_progress,\n",
    "-- behavior on the site\n",
    "IFNULL(totals.bounces, 0) AS bounces,\n",
    "IFNULL(totals.timeOnSite, 0) AS time_on_site,\n",
    "totals.pageviews,\n",
    "-- where the visitor came from\n",
    "trafficSource.source,\n",
    "trafficSource.medium,\n",
    "channelGrouping,\n",
    "-- mobile or desktop\n",
    "device.deviceCategory,\n",
    "-- geographic\n",
    "IFNULL(geoNetwork.country, \"\") AS country\n",
    "FROM `data-to-insights.ecommerce.web_analytics`,\n",
    "UNNEST(hits) AS h\n",
    "JOIN all_visitor_stats USING(fullvisitorid)\n",
    "WHERE 1=1\n",
    "-- only predict for new visits\n",
    "AND totals.newVisits = 1\n",
    "AND date BETWEEN '20160801' AND '20170430' -- train 9 months\n",
    "GROUP BY\n",
    "unique_session_id,\n",
    "will_buy_on_return_visit,\n",
    "bounces,\n",
    "time_on_site,\n",
    "totals.pageviews,\n",
    "trafficSource.source,\n",
    "trafficSource.medium,\n",
    "channelGrouping,\n",
    "device.deviceCategory,\n",
    "country\n",
    ");\n"
   ]
  },
  {
   "attachments": {},
   "cell_type": "markdown",
   "metadata": {},
   "source": [
    "## Evaluate classification model performance"
   ]
  },
  {
   "cell_type": "code",
   "execution_count": null,
   "metadata": {
    "vscode": {
     "languageId": "sql"
    }
   },
   "outputs": [],
   "source": [
    "SELECT\n",
    "roc_auc,\n",
    "CASE\n",
    "WHEN roc_auc > .9 THEN 'good'\n",
    "WHEN roc_auc > .8 THEN 'fair'\n",
    "WHEN roc_auc > .7 THEN 'not great'\n",
    "ELSE 'poor' END AS model_quality\n",
    "FROM\n",
    "ML.EVALUATE(MODEL ecommerce.classification_model_2, (\n",
    "WITH all_visitor_stats AS (\n",
    "SELECT\n",
    "fullvisitorid,\n",
    "IF(COUNTIF(totals.transactions > 0 AND totals.newVisits IS NULL) > 0, 1, 0) AS \n",
    "will_buy_on_return_visit\n",
    "FROM `data-to-insights.ecommerce.web_analytics`\n",
    "GROUP BY fullvisitorid\n",
    ")\n",
    "-- add in new features\n",
    "SELECT * EXCEPT(unique_session_id) FROM (\n",
    "SELECT\n",
    "CONCAT(fullvisitorid, CAST(visitId AS STRING)) AS unique_session_id,\n",
    "--  labels\n",
    "will_buy_on_return_visit,\n",
    "MAX(CAST(h.eCommerceAction.action_type AS INT64)) AS latest_ecommerce_progress,\n",
    "--  behavior on the site\n",
    "IFNULL(totals.bounces, 0) AS bounces,\n",
    "IFNULL(totals.timeOnSite, 0) AS time_on_site,\n",
    "totals.pageviews,\n",
    "--  where the visitor came from\n",
    "trafficSource.source,\n",
    "trafficSource.medium,\n",
    "channelGrouping,\n",
    "--  mobile or desktop\n",
    "device.deviceCategory,\n",
    "--  geographic\n",
    "IFNULL(geoNetwork.country, \"\") AS country\n",
    "FROM `data-to-insights.ecommerce.web_analytics`,\n",
    "UNNEST(hits) AS h\n",
    "JOIN all_visitor_stats USING(fullvisitorid)\n",
    "WHERE 1=1\n",
    "--  only predict for new visits\n",
    "AND totals.newVisits = 1\n",
    "AND date BETWEEN '20170501' AND '20170630' --  eval 2 months\n",
    "GROUP BY\n",
    "unique_session_id,\n",
    "will_buy_on_return_visit,\n",
    "bounces,\n",
    "time_on_site,\n",
    "totals.pageviews,\n",
    "trafficSource.source,\n",
    "trafficSource.medium,\n",
    "channelGrouping,\n",
    "device.deviceCategory,\n",
    "country\n",
    ")\n",
    "));\n"
   ]
  },
  {
   "attachments": {},
   "cell_type": "markdown",
   "metadata": {},
   "source": [
    "## Predict which new visitors will come back and purchase"
   ]
  },
  {
   "cell_type": "code",
   "execution_count": null,
   "metadata": {
    "vscode": {
     "languageId": "sql"
    }
   },
   "outputs": [],
   "source": [
    "SELECT\n",
    "*\n",
    "FROM\n",
    "ml.PREDICT(MODEL `ecommerce.classification_model_2`,\n",
    "(\n",
    "WITH all_visitor_stats AS (\n",
    "SELECT\n",
    "fullvisitorid,\n",
    "IF(COUNTIF(totals.transactions > 0 AND totals.newVisits IS NULL) > 0, 1, 0) AS \n",
    "will_buy_on_return_visit\n",
    "FROM `data-to-insights.ecommerce.web_analytics`\n",
    "GROUP BY fullvisitorid\n",
    ")\n",
    "SELECT\n",
    "CONCAT(fullvisitorid, '-',CAST(visitId AS STRING)) AS unique_session_id,\n",
    "--  labels\n",
    "will_buy_on_return_visit,\n",
    "MAX(CAST(h.eCommerceAction.action_type AS INT64)) AS \n",
    "latest_ecommerce_progress,\n",
    "--  behavior on the site\n",
    "IFNULL(totals.bounces, 0) AS bounces,\n",
    "IFNULL(totals.timeOnSite, 0) AS time_on_site,\n",
    "totals.pageviews,\n",
    "--  where the visitor came from\n",
    "trafficSource.source,\n",
    "trafficSource.medium,\n",
    "channelGrouping,\n",
    "--  mobile or desktop\n",
    "device.deviceCategory,\n",
    "--  geographic\n",
    "IFNULL(geoNetwork.country, \"\") AS country\n",
    "FROM `data-to-insights.ecommerce.web_analytics`,\n",
    "UNNEST(hits) AS h\n",
    "JOIN all_visitor_stats USING(fullvisitorid)\n",
    "WHERE\n",
    "# only predict for new visits\n",
    "totals.newVisits = 1\n",
    "AND date BETWEEN '20170701' AND '20170801' # test 1 month\n",
    "GROUP BY\n",
    "unique_session_id,\n",
    "will_buy_on_return_visit,\n",
    "bounces,\n",
    "time_on_site,\n",
    "totals.pageviews,\n",
    "trafficSource.source,\n",
    "trafficSource.medium,\n",
    "channelGrouping,\n",
    "device.deviceCategory,\n",
    "country\n",
    ")\n",
    ")\n",
    "ORDER BY\n",
    "predicted_will_buy_on_return_visit DESC;"
   ]
  }
 ],
 "metadata": {
  "language_info": {
   "name": "python"
  },
  "orig_nbformat": 4
 },
 "nbformat": 4,
 "nbformat_minor": 2
}
