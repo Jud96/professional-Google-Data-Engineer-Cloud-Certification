{
 "cells": [
  {
   "attachments": {},
   "cell_type": "markdown",
   "metadata": {},
   "source": [
    "### computing  \n",
    "![computing services](../Media/computing/comuting%20services.png)\n",
    "\n",
    "|service|description|image|\n",
    "|-------|-----------|-----|\n",
    "|compute engine|VM|![compute engine](../Media/computing/compute_engine.png)|\n",
    "|kubernetes engine|allows you to run containers on a cluster of virtual machines, providing a scalable and flexible computing environment|![kubernetes engine](../Media/computing/kubernetes.png)|\n",
    "|app engine|building and hosting web applications|![app engine](../Media/computing/app_engine.png)|\n",
    "|cloud functions|is a managed environment for deploying event-driven functions serveless|![cloud functions](../Media/computing/cloud_functions.png)|\n",
    "|cloud run|lets you run stateless HTTP containers on a fully managed environment|![cloud run](../Media/computing/cloud_Run.png)|\n"
   ]
  },
  {
   "attachments": {},
   "cell_type": "markdown",
   "metadata": {},
   "source": [
    "### storage\n",
    "![storage services](./Media/storage/storage_services.png)"
   ]
  },
  {
   "attachments": {},
   "cell_type": "markdown",
   "metadata": {},
   "source": [
    "|service|description|image|\n",
    "|-------|-----------|-----|\n",
    "|cloud storage|scalable object storage high durability, availability, and performance|![cloud storage](../Media/storage/Cloud_storage.png)|\n",
    "|cloud sql|fully managed relational database service|![cloud sql](../Media/storage/cloud_sql.png)|\n",
    "|cloud spanner|globally distributed relational database service ,combines the benefits of relational databases with the scalability and global consistency of NoSQL databases|![cloud spanner](../Media/storage/cloud_spinner.png)|\n",
    "|cloud Firestore|NoSQL document database built for automatic scaling, high performance,real time and ease of application development ,offline support for mobile and web applications |![cloud datastore](../Media/storage/cloud_Firestore.png)|\n",
    "|cloud bigtable|NoSQL wide-column database for large analytical and operational workloads ,ideal for applications that require low latency and high throughput for large datasets|![cloud bigtable](../Media/storage/cloud_Bigtable.png)|\n",
    "\n",
    "\n",
    "NOte: \n",
    "* Cloud storage offers different storage classes, including Standard, Nearline, Coldline, and Archive, with varying cost and access time characteristics.\n",
    "![cloud storage classes](../Media/storage/cloudstorage_classes.png)\n",
    "* cloud storage simulate a file system\n",
    "* file access gs://bucket_name/object_name\n",
    "* http access https://storage.cloud.google.com/bucket_name/object_name\n",
    "* controlling access with IAM and  access list ACLs\n",
    "* choose right data storage option\n",
    "  ![choose right data storage option](../Media/storage/structuredata_storagetype.png)"
   ]
  },
  {
   "attachments": {},
   "cell_type": "markdown",
   "metadata": {},
   "source": [
    "### Ingest and process data\n",
    "![ingest and process data](../Media/ingestandprocess/dataingestandprocess.png)\n",
    "|service|description|image|\n",
    "|-------|-----------|-----|\n",
    "|cloud pub/sub|messaging service send and receive messages between independent applications asynchronous messaging between applications. Pub/Sub offers durable message storage and real-time message delivery with high availability and consistent performance at scale.|![cloud pub/sub](../Media/ingestandprocess/pub_sub.png)|\n",
    "|dataflow|fully managed service for executing Apache Beam pipelines,It allows you to build and run batch and streaming data processing pipelines with minimal latency, autoscaling|![dataflow](../Media/ingestandprocess/dataflow.png)|\n",
    "|dataproc|fully managed service for runrsning Apache Spark and Apache Hadoop cluster. It allows you to easily create clusters, manage resources, and run jobs at any scale. Dataproc offers autoscaling, high availability, and integration with other GCP services.|![dataproc](../Media/ingestandprocess/dataproc.png)|\n",
    "|datafusion|fully managed, cloud-native data integration service that helps users efficiently build and manage ETL/ELT data pipelines. It allows you to build data pipelines in a code-free UI environment, with a rich set of pre-built connectors and transformations.|![datafusion](../Media/ingestandprocess/datafusion.png)|\n",
    "\n",
    "dataflow template is a reusable configuration that you can use to create dataflow jobs. You can create a template from a dataflow job and then use the template to create new jobs. You can also share templates with other users.\n",
    "streamin dataflow template examples   <br>\n",
    "1- pubsub to bigquery  <br> \n",
    "2- pubsub to cloud storage  <br>\n",
    "3- datastream to bigquery  <br>\n",
    "4- pubsub to mongodb  <br>\n",
    "batch dataflow template examples   <br>\n",
    "1- bigquery to cloud storage  <br>\n",
    "2- bigtable to cloud storage  <br>\n",
    "3- cloud storage to bigquery  <br>\n",
    "4- cloud spanner to cloud storage  <br>\n"
   ]
  },
  {
   "attachments": {},
   "cell_type": "markdown",
   "metadata": {},
   "source": [
    "### Analytics\n",
    "![analytics services](./Media/analytics/analytics_tools.png)\n",
    "|service|description|image|\n",
    "|-------|-----------|-----|\n",
    "|bigquery|data warehouse that allows you to run SQL-like queries against very large datasets,serveless|![bigquery](../Media/analytics/bigquery.png)|\n",
    "|data studio|data visualization tool that allows you to create interactive dashboards and reports|![data studio](../Media/analytics/datastudio.png)|\n",
    "|looker|data visualization tool that allows you to create interactive dashboards and reports|![looker](../Media/analytics/looker.png)|\n"
   ]
  },
  {
   "attachments": {},
   "cell_type": "markdown",
   "metadata": {},
   "source": [
    " machine learning in GCP\n",
    " 1- Bigquery ML\n",
    " 2- AutoML\n",
    " 3- prebuilt ML\n",
    " 4- custom ML"
   ]
  },
  {
   "attachments": {},
   "cell_type": "markdown",
   "metadata": {},
   "source": [
    "big query for ML\n",
    "\n",
    "|term|description|\n",
    "|----|-----------|\n",
    "|labels|the values you want to predict|\n",
    "|features|the input variables that you use to predict the labels  **select * from ML.Feature_INFo(MODEL 'mydataset.mymodel')**|\n",
    "|Model object|the model that you train from your training data and then use to get predictions on new data|\n",
    "|Model type|the type of model you use. For example, linear regression, logistic regression, k-means clustering, and neural networks **create or replace MODEL <dataset><name> OPTIONS(model_type = type) AS training dataset**|\n",
    "|training progress| select * from ML.Training_info(MODEL 'mydataset.mymodel')|\n",
    "|Inspect weights|select * from ML.WEIGHTS(MODEL 'mydataset.mymodel')|\n",
    "|Evaluate model|select * from ML.EVALUATE(MODEL 'mydataset.mymodel')|\n",
    "|Predictions|select * from ML.PREDICT(MODEL 'mydataset.mymodel', (select * from mydataset.mytable))|\n",
    "\n",
    "models types in bigquery\n",
    "1- classification\n",
    " * logistic regression\n",
    " * deep neural networks\n",
    " * xgboost\n",
    " * autoML tables\n",
    " * wide and deep NNs\n",
    "2- regression\n",
    "    * linear regression\n",
    "    * deep neural networks\n",
    "    * xgboost\n",
    "    * autoML tables\n",
    "    * wide and deep NNs\n",
    "3- other Methods\n",
    " * clustering\n",
    " * time series forecasting (ARIMA)\n",
    " * recommendation systems (matrix factorization)\n",
    " * anomaly detection \n"
   ]
  },
  {
   "attachments": {},
   "cell_type": "markdown",
   "metadata": {},
   "source": [
    "AutoML is a suite of machine learning products that enables developers with limited machine learning expertise to train high-quality models specific to their business needs, by leveraging Google’s state-of-the-art transfer learning, and Neural Architecture Search technology.\n",
    "\n",
    "vertex AI is a unified AI platform that allows you to build, deploy, and manage machine learning models. It provides a single place for data scientists and ML engineers to work with all the development tools and services required for the entire ML workflow.\n",
    "vertex AI provides AutoML and custom training capabilities"
   ]
  },
  {
   "attachments": {},
   "cell_type": "markdown",
   "metadata": {},
   "source": [
    "Designing data processing systems\n",
    "\n",
    "\n",
    "\n",
    "\n",
    "\n"
   ]
  },
  {
   "attachments": {},
   "cell_type": "markdown",
   "metadata": {},
   "source": [
    "gcp Data catelog is a fully managed and scalable metadata management service that empowers organizations to quickly discover, manage, and understand all their data in Google Cloud. Data Catalog provides a comprehensive and searchable data inventory. It also helps Data Stewards curate and annotate the data to make it easily discoverable and meaningful to the users. "
   ]
  }
 ],
 "metadata": {
  "language_info": {
   "name": "python"
  },
  "orig_nbformat": 4
 },
 "nbformat": 4,
 "nbformat_minor": 2
}
