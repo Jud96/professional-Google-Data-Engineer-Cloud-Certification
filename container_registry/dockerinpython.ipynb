{
 "cells": [
  {
   "attachments": {},
   "cell_type": "markdown",
   "metadata": {},
   "source": [
    "**create sperate  env** <br>\n",
    "python -m venv venv <br>\n",
    "venv\\Scripts\\activate <br>\n",
    "\n",
    "obtain gmail app password <br>\n",
    "[obtain gmail app password](https://support.google.com/accounts/answer/185833?hl=en)\n"
   ]
  },
  {
   "cell_type": "code",
   "execution_count": 2,
   "metadata": {},
   "outputs": [
    {
     "name": "stdout",
     "output_type": "stream",
     "text": [
      "Overwriting main.py\n"
     ]
    }
   ],
   "source": [
    "%%writefile main.py \n",
    "from email.message import EmailMessage\n",
    "import smtplib ,ssl\n",
    "import datetime\n",
    "import time\n",
    "print(datetime.datetime.now())\n",
    "print('Sending Mail')\n",
    "msg = EmailMessage()\n",
    "msg.set_content('This is my message')\n",
    "msg['Subject'] = 'Hello'\n",
    "msg['From'] = 'email'\n",
    "msg['To'] = ['email']\n",
    "context=ssl.create_default_context()\n",
    "server = smtplib.SMTP('smtp.gmail.com', 587)\n",
    "server.starttls(context=context)\n",
    "server.login('your email', 'your app password')\n",
    "server.send_message(msg)\n",
    "print('Mail Sent')"
   ]
  },
  {
   "cell_type": "code",
   "execution_count": null,
   "metadata": {},
   "outputs": [],
   "source": [
    "%%writefile Dockerfile\n",
    "\n",
    "From python:3.9.0b4-alpine3.12\n",
    "\n",
    "\n",
    "copy requirements.txt  .\n",
    "copy root /var/spool/cron/crontabs/root\n",
    "copy main.py /bin/main.py\n",
    "\n",
    "RUN pip install -r requirements.txt\n",
    "RUN chmod +x bin/main.py\n",
    "CMD crond -l 2 -f"
   ]
  },
  {
   "cell_type": "code",
   "execution_count": null,
   "metadata": {},
   "outputs": [],
   "source": [
    "%%writefile root\n",
    "*/1 * * * * python3 /bin/main.py "
   ]
  },
  {
   "attachments": {},
   "cell_type": "markdown",
   "metadata": {},
   "source": [
    "```shell\n",
    "docker  build  -t sendemail .\n",
    "docker run -it sendemail\n",
    "# to show images\n",
    "#docker images ls\n",
    "```\n",
    "\n",
    "```shell\n",
    "pip freeze > requirements.txt\n",
    "```\n"
   ]
  },
  {
   "attachments": {},
   "cell_type": "markdown",
   "metadata": {},
   "source": [
    "## GCP \n",
    "[authentication](https://cloud.google.com/container-registry/docs/advanced-authentication)\n",
    "gcloud auth configure-docker\n",
    "gcloud auth login\n",
    "[pushing and pulling](https://cloud.google.com/container-registry/docs/pushing-and-pulling)\n",
    "\n",
    "local docker image : send\n",
    "my-project : (project id)\n",
    "* docker tag sendemails gcr.io/my-project/sendemails\n",
    "docker tag sendemails gcr.io/xxxxxxx/sendemails\n",
    "* docker push gcr.io/my-project/sendemails\n",
    "docker push gcr.io/norse-sector-386912/sendemails"
   ]
  },
  {
   "attachments": {},
   "cell_type": "markdown",
   "metadata": {},
   "source": [
    "[video tutorial](https://www.youtube.com/watch?v=0TFWtfFY87U)"
   ]
  }
 ],
 "metadata": {
  "kernelspec": {
   "display_name": "base",
   "language": "python",
   "name": "python3"
  },
  "language_info": {
   "codemirror_mode": {
    "name": "ipython",
    "version": 3
   },
   "file_extension": ".py",
   "mimetype": "text/x-python",
   "name": "python",
   "nbconvert_exporter": "python",
   "pygments_lexer": "ipython3",
   "version": "3.11.0"
  },
  "orig_nbformat": 4
 },
 "nbformat": 4,
 "nbformat_minor": 2
}
