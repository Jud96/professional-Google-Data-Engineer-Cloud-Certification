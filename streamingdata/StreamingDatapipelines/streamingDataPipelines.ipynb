{
 "cells": [
  {
   "attachments": {},
   "cell_type": "markdown",
   "metadata": {},
   "source": [
    "\n",
    "\n",
    "In this lab, you own a fleet of New York City taxi cabs and are looking to \n",
    "monitor how well your business is doing in real-time. You will build a \n",
    "streaming data pipeline to capture taxi revenue, passenger count, ride \n",
    "status, and much more and visualize the results in a management \n",
    "dashboard\n",
    "\n",
    "![structure](streamingdata.png)"
   ]
  },
  {
   "attachments": {},
   "cell_type": "markdown",
   "metadata": {},
   "source": [
    "### Creating database, partitioning for performance and define schema using  cloud shell\n",
    "``` shell\n",
    "# create the taxirides dataset.\n",
    "bq mk taxirides\n",
    "# create the taxirides.realtime table\n",
    "bq mk \\\n",
    "--time_partitioning_field timestamp \\\n",
    "--schema ride_id:string,point_idx:integer,latitude:float,longitude:float,\\\n",
    "timestamp:timestamp,meter_reading:float,meter_increment:float,ride_status:string,\\\n",
    "passenger_count:integer -t taxirides.realtime\n",
    "```"
   ]
  },
  {
   "attachments": {},
   "cell_type": "markdown",
   "metadata": {},
   "source": [
    "### create cloud storage bucket\n",
    "Create a Cloud Storage bucket   <br>\n",
    "Name, paste in your GCP Project ID <br>\n",
    "Location type, click Multi-region <br>\n"
   ]
  },
  {
   "attachments": {},
   "cell_type": "markdown",
   "metadata": {},
   "source": [
    "### Set up a Dataflow Pipeline\n",
    "\n",
    "1. Enter streaming-taxi-pipeline as the Job name for your Dataflow job.\n",
    "2. Under Dataflow template, select the Pub/Sub Topic to BigQuery template.\n",
    "3. Under Input Pub/Sub topic, enter projects/pubsub-public-data/topics/taxirides-realtime\n",
    "4. Under BigQuery output table, enter <myprojectid>:taxirides.realtime\n",
    "5. Under Temporary location, enter gs://<mybucket>/tmp/.\n",
    "6. Click Show Optional Parameters and input the following values as listed below:\n",
    "Max workers: 2\n",
    "Number of workers: 2\n",
    "7. Click the RUN JOB button."
   ]
  },
  {
   "cell_type": "code",
   "execution_count": null,
   "metadata": {
    "vscode": {
     "languageId": "sql"
    }
   },
   "outputs": [],
   "source": [
    "--  explore data \n",
    "WITH streaming_data AS (\n",
    "SELECT\n",
    "timestamp,\n",
    "TIMESTAMP_TRUNC(timestamp, HOUR, 'UTC') AS hour,\n",
    "TIMESTAMP_TRUNC(timestamp, MINUTE, 'UTC') AS \n",
    "minute,\n",
    "TIMESTAMP_TRUNC(timestamp, SECOND, 'UTC') AS \n",
    "second,\n",
    "ride_id,\n",
    "latitude,\n",
    "longitude,\n",
    "meter_reading,\n",
    "ride_status,\n",
    "passenger_count\n",
    "FROM\n",
    "taxirides.realtime\n",
    "WHERE ride_status = 'dropoff'\n",
    "ORDER BY timestamp DESC\n",
    "LIMIT 1000)\n",
    "-- calculate aggregations on stream for reporting:\n",
    "SELECT\n",
    "ROW_NUMBER() OVER() AS dashboard_sort,\n",
    "minute,\n",
    "COUNT(DISTINCT ride_id) AS total_rides,\n",
    "SUM(meter_reading) AS total_revenue,\n",
    "SUM(passenger_count) AS total_passengers\n",
    "FROM streaming_data\n",
    "GROUP BY minute, timestamp\n"
   ]
  },
  {
   "attachments": {},
   "cell_type": "markdown",
   "metadata": {},
   "source": [
    "### Stop work\n",
    "\n",
    "1.Navigate back to Dataflow.\n",
    "2.Click the streaming-taxi-pipeline or the new job name.\n",
    "3.Click STOP and select Cancel > STOP JOB"
   ]
  },
  {
   "attachments": {},
   "cell_type": "markdown",
   "metadata": {},
   "source": [
    "### Google studio \n",
    "Specify the below settings: <br>\n",
    "•Chart type: Combo chart <br> \n",
    "•Date range Dimension: dashboard_sort <br>\n",
    "•Dimension: dashboard_sort <br>\n",
    "•Drill Down: dashboard_sort (Make sure that Drill down option is turned ON) <br>\n",
    "•Metric: SUM() total_rides, SUM() total_passengers, SUM() total_revenue <br>\n",
    "•Sort: dashboard_sort, Ascending (latest rides first) <br>"
   ]
  },
  {
   "attachments": {},
   "cell_type": "markdown",
   "metadata": {},
   "source": [
    "![dashboard_1](dashboard_1.png)"
   ]
  },
  {
   "attachments": {},
   "cell_type": "markdown",
   "metadata": {},
   "source": [
    "### data source (custom query)\n",
    "1. select data source and go more options \n",
    "2.Under CUSTOM QUERY, click qwiklabs-gcp-xxxxxxx > Enter Custom Query, add the following query. \n",
    "``` sql\n",
    "SELECT\n",
    "*\n",
    "FROM\n",
    "taxirides.realtime\n",
    "WHERE\n",
    "ride_status='dropoff’\n",
    "```\n",
    "3. Add timeseries chart Change the field timestamp type to Date & Time > Date Hour Minute (YYYYMMDDhhmm).\n",
    "4.in the Data panel on the right, change the following:\n",
    "•Dimension: timestamp\n",
    "•Metric: meter_reading(SUM)\n",
    "\n",
    "![dashboard_2](dashboard_2.png)"
   ]
  },
  {
   "cell_type": "markdown",
   "metadata": {},
   "source": []
  }
 ],
 "metadata": {
  "language_info": {
   "name": "python"
  },
  "orig_nbformat": 4
 },
 "nbformat": 4,
 "nbformat_minor": 2
}
